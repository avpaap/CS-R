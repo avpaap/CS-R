{
 "cells": [
  {
   "cell_type": "markdown",
   "metadata": {},
   "source": [
    "# Capstone Project: Create a Customer Segmentation Report for Arvato Financial Services\n",
    "\n",
    "In this project, you will analyze demographics data for customers of a mail-order sales company in Germany, comparing it against demographics information for the general population. You'll use unsupervised learning techniques to perform customer segmentation, identifying the parts of the population that best describe the core customer base of the company. Then, you'll apply what you've learned on a third dataset with demographics information for targets of a marketing campaign for the company, and use a model to predict which individuals are most likely to convert into becoming customers for the company. The data that you will use has been provided by our partners at Bertelsmann Arvato Analytics, and represents a real-life data science task.\n",
    "\n",
    "If you completed the first term of this program, you will be familiar with the first part of this project, from the unsupervised learning project. The versions of those two datasets used in this project will include many more features and has not been pre-cleaned. You are also free to choose whatever approach you'd like to analyzing the data rather than follow pre-determined steps. In your work on this project, make sure that you carefully document your steps and decisions, since your main deliverable for this project will be a blog post reporting your findings."
   ]
  },
  {
   "cell_type": "markdown",
   "metadata": {},
   "source": [
    "### Importing Libraries"
   ]
  },
  {
   "cell_type": "code",
   "execution_count": 314,
   "metadata": {},
   "outputs": [],
   "source": [
    "# import libraries here; add more as necessary\n",
    "import numpy as np\n",
    "import pandas as pd\n",
    "import matplotlib.pyplot as plt\n",
    "import seaborn as sns\n",
    "import pickle\n",
    "\n",
    "#imports to help me plot my venn diagrams\n",
    "import matplotlib_venn as venn2\n",
    "from matplotlib_venn import venn2\n",
    "from pylab import rcParams\n",
    "\n",
    "# import the util.py file where I define my functions\n",
    "from utils import *\n",
    "\n",
    "# sklearn\n",
    "from sklearn.linear_model import LinearRegression\n",
    "from sklearn.preprocessing import StandardScaler, RobustScaler, MinMaxScaler, OneHotEncoder, Imputer\n",
    "from sklearn.impute import SimpleImputer\n",
    "from sklearn.decomposition import PCA\n",
    "from sklearn.cluster import KMeans\n",
    "from sklearn.ensemble import RandomForestClassifier\n",
    "from sklearn.model_selection import GridSearchCV, train_test_split\n",
    "from sklearn.metrics import confusion_matrix,precision_recall_fscore_support\n",
    "from sklearn.utils.multiclass import unique_labels\n",
    "from sklearn.linear_model import LinearRegression\n",
    "from sklearn.model_selection import train_test_split, StratifiedKFold, cross_val_score, RandomizedSearchCV, GridSearchCV\n",
    "from sklearn.metrics import roc_auc_score\n",
    "from sklearn.pipeline import Pipeline\n",
    "from sklearn.ensemble import RandomForestClassifier\n",
    "from sklearn.ensemble import GradientBoostingClassifier as gbm\n",
    "from sklearn.linear_model import LogisticRegression\n",
    "from sklearn.neural_network import MLPClassifier\n",
    "from sklearn.model_selection import StratifiedKFold, learning_curve\n",
    "\n",
    "import xgboost as xgb\n",
    "import lightgbm as lgb\n",
    "\n",
    "import time\n",
    "from timeit import default_timer as timer\n",
    "\n",
    "# magic word for producing visualizations in notebook\n",
    "%matplotlib inline"
   ]
  },
  {
   "cell_type": "markdown",
   "metadata": {},
   "source": [
    "## Part 0: Get to Know the Data\n",
    "\n",
    "There are four data files associated with this project:\n",
    "\n",
    "- `Udacity_AZDIAS_052018.csv`: Demographics data for the general population of Germany; 891 211 persons (rows) x 366 features (columns).\n",
    "- `Udacity_CUSTOMERS_052018.csv`: Demographics data for customers of a mail-order company; 191 652 persons (rows) x 369 features (columns).\n",
    "- `Udacity_MAILOUT_052018_TRAIN.csv`: Demographics data for individuals who were targets of a marketing campaign; 42 982 persons (rows) x 367 (columns).\n",
    "- `Udacity_MAILOUT_052018_TEST.csv`: Demographics data for individuals who were targets of a marketing campaign; 42 833 persons (rows) x 366 (columns).\n",
    "\n",
    "Each row of the demographics files represents a single person, but also includes information outside of individuals, including information about their household, building, and neighborhood. Use the information from the first two files to figure out how customers (\"CUSTOMERS\") are similar to or differ from the general population at large (\"AZDIAS\"), then use your analysis to make predictions on the other two files (\"MAILOUT\"), predicting which recipients are most likely to become a customer for the mail-order company.\n",
    "\n",
    "The \"CUSTOMERS\" file contains three extra columns ('CUSTOMER_GROUP', 'ONLINE_PURCHASE', and 'PRODUCT_GROUP'), which provide broad information about the customers depicted in the file. The original \"MAILOUT\" file included one additional column, \"RESPONSE\", which indicated whether or not each recipient became a customer of the company. For the \"TRAIN\" subset, this column has been retained, but in the \"TEST\" subset it has been removed; it is against that withheld column that your final predictions will be assessed in the Kaggle competition.\n",
    "\n",
    "Otherwise, all of the remaining columns are the same between the three data files. For more information about the columns depicted in the files, you can refer to two Excel spreadsheets provided in the workspace. [One of them](./DIAS Information Levels - Attributes 2017.xlsx) is a top-level list of attributes and descriptions, organized by informational category. [The other](./DIAS Attributes - Values 2017.xlsx) is a detailed mapping of data values for each feature in alphabetical order.\n",
    "\n",
    "In the below cell, we've provided some initial code to load in the first two datasets. Note for all of the `.csv` data files in this project that they're semicolon (`;`) delimited, so an additional argument in the [`read_csv()`](https://pandas.pydata.org/pandas-docs/stable/generated/pandas.read_csv.html) call has been included to read in the data properly. Also, considering the size of the datasets, it may take some time for them to load completely.\n",
    "\n",
    "You'll notice when the data is loaded in that a warning message will immediately pop up. Before you really start digging into the modeling and analysis, you're going to need to perform some cleaning. Take some time to browse the structure of the data and look over the informational spreadsheets to understand the data values. Make some decisions on which features to keep, which features to drop, and if any revisions need to be made on data formats. It'll be a good idea to create a function with pre-processing steps, since you'll need to clean all of the datasets before you work with them."
   ]
  },
  {
   "cell_type": "code",
   "execution_count": 89,
   "metadata": {},
   "outputs": [
    {
     "name": "stderr",
     "output_type": "stream",
     "text": [
      "/home/ec2-user/anaconda3/envs/python3/lib/python3.6/site-packages/IPython/core/interactiveshell.py:2785: DtypeWarning: Columns (19,20) have mixed types. Specify dtype option on import or set low_memory=False.\n",
      "  interactivity=interactivity, compiler=compiler, result=result)\n"
     ]
    }
   ],
   "source": [
    "# load in the data\n",
    "'''\n",
    "DtypeWarning: Columns (19,20) have mixed types.\n",
    "The warnings will be addressed in the pre-processing steps\n",
    "'''\n",
    "azdias = pd.read_csv('azdias.csv', index_col=0)\n",
    "azdias.reset_index(drop=True, inplace=True)\n",
    "customers = pd.read_csv('customers.csv', index_col=0)\n",
    "customers.reset_index(drop=True, inplace=True)\n",
    "feat_info = pd.read_csv(\"feature_summary_complete.csv\", sep= ',')\n",
    "dias = pd.read_excel(\"DIAS Attributes - Values 2017.xlsx\", header = 1)"
   ]
  },
  {
   "cell_type": "markdown",
   "metadata": {},
   "source": [
    "To know the missing or unknown values dias will be used, making row 1 as header and deleting unnamed columns."
   ]
  },
  {
   "cell_type": "code",
   "execution_count": 90,
   "metadata": {},
   "outputs": [
    {
     "data": {
      "text/html": [
       "<div>\n",
       "<style scoped>\n",
       "    .dataframe tbody tr th:only-of-type {\n",
       "        vertical-align: middle;\n",
       "    }\n",
       "\n",
       "    .dataframe tbody tr th {\n",
       "        vertical-align: top;\n",
       "    }\n",
       "\n",
       "    .dataframe thead th {\n",
       "        text-align: right;\n",
       "    }\n",
       "</style>\n",
       "<table border=\"1\" class=\"dataframe\">\n",
       "  <thead>\n",
       "    <tr style=\"text-align: right;\">\n",
       "      <th></th>\n",
       "      <th>Attribute</th>\n",
       "      <th>Description</th>\n",
       "      <th>Value</th>\n",
       "      <th>Meaning</th>\n",
       "    </tr>\n",
       "  </thead>\n",
       "  <tbody>\n",
       "    <tr>\n",
       "      <th>0</th>\n",
       "      <td>AGER_TYP</td>\n",
       "      <td>best-ager typology</td>\n",
       "      <td>-1</td>\n",
       "      <td>unknown</td>\n",
       "    </tr>\n",
       "    <tr>\n",
       "      <th>1</th>\n",
       "      <td>AGER_TYP</td>\n",
       "      <td>NaN</td>\n",
       "      <td>0</td>\n",
       "      <td>no classification possible</td>\n",
       "    </tr>\n",
       "    <tr>\n",
       "      <th>2</th>\n",
       "      <td>AGER_TYP</td>\n",
       "      <td>NaN</td>\n",
       "      <td>1</td>\n",
       "      <td>passive elderly</td>\n",
       "    </tr>\n",
       "    <tr>\n",
       "      <th>3</th>\n",
       "      <td>AGER_TYP</td>\n",
       "      <td>NaN</td>\n",
       "      <td>2</td>\n",
       "      <td>cultural elderly</td>\n",
       "    </tr>\n",
       "    <tr>\n",
       "      <th>4</th>\n",
       "      <td>AGER_TYP</td>\n",
       "      <td>NaN</td>\n",
       "      <td>3</td>\n",
       "      <td>experience-driven elderly</td>\n",
       "    </tr>\n",
       "  </tbody>\n",
       "</table>\n",
       "</div>"
      ],
      "text/plain": [
       "  Attribute         Description Value                     Meaning\n",
       "0  AGER_TYP  best-ager typology    -1                     unknown\n",
       "1  AGER_TYP                 NaN     0  no classification possible\n",
       "2  AGER_TYP                 NaN     1             passive elderly\n",
       "3  AGER_TYP                 NaN     2            cultural elderly\n",
       "4  AGER_TYP                 NaN     3   experience-driven elderly"
      ]
     },
     "execution_count": 90,
     "metadata": {},
     "output_type": "execute_result"
    }
   ],
   "source": [
    "dias.drop(columns=['Unnamed: 0'], inplace=True)\n",
    "dias['Attribute'] = dias['Attribute'].ffill()\n",
    "dias.head()\n"
   ]
  },
  {
   "cell_type": "code",
   "execution_count": 91,
   "metadata": {},
   "outputs": [
    {
     "name": "stdout",
     "output_type": "stream",
     "text": [
      "Index(['CAMEO_INTL_2015', 'CJT_GESAMTTYP'], dtype='object')\n",
      "Index(['CAMEO_INTL_2015', 'CJT_GESAMTTYP'], dtype='object')\n"
     ]
    }
   ],
   "source": [
    "# Investigating column 19 and 20.\n",
    "print(azdias.iloc[:,19:21].columns)\n",
    "print(customers.iloc[:,19:21].columns)"
   ]
  },
  {
   "cell_type": "markdown",
   "metadata": {},
   "source": [
    "\n",
    "These columns are reason for mixed type warnings due to X in the columns."
   ]
  },
  {
   "cell_type": "code",
   "execution_count": 92,
   "metadata": {},
   "outputs": [
    {
     "data": {
      "text/html": [
       "<div>\n",
       "<style scoped>\n",
       "    .dataframe tbody tr th:only-of-type {\n",
       "        vertical-align: middle;\n",
       "    }\n",
       "\n",
       "    .dataframe tbody tr th {\n",
       "        vertical-align: top;\n",
       "    }\n",
       "\n",
       "    .dataframe thead th {\n",
       "        text-align: right;\n",
       "    }\n",
       "</style>\n",
       "<table border=\"1\" class=\"dataframe\">\n",
       "  <thead>\n",
       "    <tr style=\"text-align: right;\">\n",
       "      <th></th>\n",
       "      <th>attribute</th>\n",
       "      <th>information_level</th>\n",
       "      <th>type</th>\n",
       "      <th>missing_or_unknown</th>\n",
       "    </tr>\n",
       "  </thead>\n",
       "  <tbody>\n",
       "    <tr>\n",
       "      <th>0</th>\n",
       "      <td>AGER_TYP</td>\n",
       "      <td>person</td>\n",
       "      <td>categorical</td>\n",
       "      <td>[-1,0]</td>\n",
       "    </tr>\n",
       "    <tr>\n",
       "      <th>1</th>\n",
       "      <td>ALTERSKATEGORIE_GROB</td>\n",
       "      <td>person</td>\n",
       "      <td>ordinal</td>\n",
       "      <td>[-1,0,9]</td>\n",
       "    </tr>\n",
       "    <tr>\n",
       "      <th>2</th>\n",
       "      <td>ANREDE_KZ</td>\n",
       "      <td>person</td>\n",
       "      <td>categorical</td>\n",
       "      <td>[-1,0]</td>\n",
       "    </tr>\n",
       "    <tr>\n",
       "      <th>3</th>\n",
       "      <td>CJT_GESAMTTYP</td>\n",
       "      <td>person</td>\n",
       "      <td>categorical</td>\n",
       "      <td>[0]</td>\n",
       "    </tr>\n",
       "    <tr>\n",
       "      <th>4</th>\n",
       "      <td>FINANZ_MINIMALIST</td>\n",
       "      <td>person</td>\n",
       "      <td>ordinal</td>\n",
       "      <td>[-1]</td>\n",
       "    </tr>\n",
       "  </tbody>\n",
       "</table>\n",
       "</div>"
      ],
      "text/plain": [
       "              attribute information_level         type missing_or_unknown\n",
       "0              AGER_TYP            person  categorical             [-1,0]\n",
       "1  ALTERSKATEGORIE_GROB            person      ordinal           [-1,0,9]\n",
       "2             ANREDE_KZ            person  categorical             [-1,0]\n",
       "3         CJT_GESAMTTYP            person  categorical                [0]\n",
       "4     FINANZ_MINIMALIST            person      ordinal               [-1]"
      ]
     },
     "execution_count": 92,
     "metadata": {},
     "output_type": "execute_result"
    }
   ],
   "source": [
    "feat_info.head()"
   ]
  },
  {
   "cell_type": "code",
   "execution_count": 93,
   "metadata": {},
   "outputs": [],
   "source": [
    "azdias = special_feature_handler(azdias)\n",
    "customers = special_feature_handler(customers)"
   ]
  },
  {
   "cell_type": "code",
   "execution_count": 94,
   "metadata": {},
   "outputs": [
    {
     "name": "stdout",
     "output_type": "stream",
     "text": [
      "AGER_TYP                        5\n",
      "ANREDE_KZ                       2\n",
      "CJT_GESAMTTYP                   6\n",
      "FINANZTYP                       6\n",
      "GFK_URLAUBERTYP                12\n",
      "GREEN_AVANTGARDE                2\n",
      "LP_FAMILIE_FEIN                12\n",
      "LP_FAMILIE_GROB                 6\n",
      "LP_STATUS_FEIN                 10\n",
      "LP_STATUS_GROB                  5\n",
      "NATIONALITAET_KZ                4\n",
      "SHOPPER_TYP                     5\n",
      "SOHO_KZ                         2\n",
      "TITEL_KZ                        6\n",
      "VERS_TYP                        3\n",
      "ZABEOTYP                        6\n",
      "KK_KUNDENTYP                    6\n",
      "D19_KONSUMTYP                   7\n",
      "D19_GESAMT_ANZ_12               7\n",
      "D19_GESAMT_ANZ_24               7\n",
      "D19_BANKEN_ANZ_12               7\n",
      "D19_BANKEN_ANZ_24               7\n",
      "D19_GESAMT_OFFLINE_DATUM       10\n",
      "D19_GESAMT_ONLINE_DATUM        10\n",
      "D19_GESAMT_DATUM               10\n",
      "D19_BANKEN_OFFLINE_DATUM       10\n",
      "D19_BANKEN_ONLINE_DATUM        10\n",
      "D19_BANKEN_DATUM               10\n",
      "D19_TELKO_OFFLINE_DATUM        10\n",
      "D19_TELKO_ONLINE_DATUM         10\n",
      "D19_TELKO_DATUM                10\n",
      "D19_VERSAND_OFFLINE_DATUM      10\n",
      "D19_VERSAND_ONLINE_DATUM       10\n",
      "D19_VERSAND_DATUM              10\n",
      "D19_VERSI_OFFLINE_DATUM        10\n",
      "D19_VERSI_ONLINE_DATUM         10\n",
      "D19_VERSI_DATUM                10\n",
      "D19_GESAMT_ONLINE_QUOTE_12     11\n",
      "D19_BANKEN_ONLINE_QUOTE_12     11\n",
      "D19_VERSAND_ONLINE_QUOTE_12    11\n",
      "GEBAEUDETYP                     7\n",
      "OST_WEST_KZ                     2\n",
      "CAMEO_DEUG_2015                 9\n",
      "CAMEO_DEU_2015                 45\n",
      "dtype: int64\n"
     ]
    }
   ],
   "source": [
    "#doing a quick check of categorical features and see if some are too granular to be maintained\n",
    "cat_check = categorical_checker(azdias, feat_info)"
   ]
  },
  {
   "cell_type": "markdown",
   "metadata": {},
   "source": [
    "\n",
    "The above information hints at CAMEO_DEU_2015 being too fragmented with 45 category values and a makes a good case to drop this column.\n",
    "Columns 'CUSTOMER_GROUP', 'ONLINE_PURCHASE', and 'PRODUCT_GROUP' are not identical between two datasets, hence dropping these to maintain homogeneity."
   ]
  },
  {
   "cell_type": "code",
   "execution_count": 95,
   "metadata": {},
   "outputs": [],
   "source": [
    "customers = customers.drop(['CUSTOMER_GROUP', 'ONLINE_PURCHASE', 'PRODUCT_GROUP'], inplace=False, axis=1)"
   ]
  },
  {
   "cell_type": "markdown",
   "metadata": {},
   "source": [
    "#### Checking shapes of datasets"
   ]
  },
  {
   "cell_type": "markdown",
   "metadata": {},
   "source": [
    "#### Azdias Shape"
   ]
  },
  {
   "cell_type": "code",
   "execution_count": 96,
   "metadata": {},
   "outputs": [
    {
     "name": "stdout",
     "output_type": "stream",
     "text": [
      "Printing dataframe shape\n",
      "(891221, 366)\n",
      "________________________________________________________\n"
     ]
    },
    {
     "data": {
      "text/html": [
       "<div>\n",
       "<style scoped>\n",
       "    .dataframe tbody tr th:only-of-type {\n",
       "        vertical-align: middle;\n",
       "    }\n",
       "\n",
       "    .dataframe tbody tr th {\n",
       "        vertical-align: top;\n",
       "    }\n",
       "\n",
       "    .dataframe thead th {\n",
       "        text-align: right;\n",
       "    }\n",
       "</style>\n",
       "<table border=\"1\" class=\"dataframe\">\n",
       "  <thead>\n",
       "    <tr style=\"text-align: right;\">\n",
       "      <th></th>\n",
       "      <th>LNR</th>\n",
       "      <th>AGER_TYP</th>\n",
       "      <th>AKT_DAT_KL</th>\n",
       "      <th>ALTER_HH</th>\n",
       "      <th>ALTER_KIND1</th>\n",
       "      <th>ALTER_KIND2</th>\n",
       "      <th>ALTER_KIND3</th>\n",
       "      <th>ALTER_KIND4</th>\n",
       "      <th>ALTERSKATEGORIE_FEIN</th>\n",
       "      <th>ANZ_HAUSHALTE_AKTIV</th>\n",
       "      <th>...</th>\n",
       "      <th>VHN</th>\n",
       "      <th>VK_DHT4A</th>\n",
       "      <th>VK_DISTANZ</th>\n",
       "      <th>VK_ZG11</th>\n",
       "      <th>W_KEIT_KIND_HH</th>\n",
       "      <th>WOHNDAUER_2008</th>\n",
       "      <th>WOHNLAGE</th>\n",
       "      <th>ZABEOTYP</th>\n",
       "      <th>ANREDE_KZ</th>\n",
       "      <th>ALTERSKATEGORIE_GROB</th>\n",
       "    </tr>\n",
       "  </thead>\n",
       "  <tbody>\n",
       "    <tr>\n",
       "      <th>0</th>\n",
       "      <td>910215</td>\n",
       "      <td>-1</td>\n",
       "      <td>NaN</td>\n",
       "      <td>NaN</td>\n",
       "      <td>NaN</td>\n",
       "      <td>NaN</td>\n",
       "      <td>NaN</td>\n",
       "      <td>NaN</td>\n",
       "      <td>NaN</td>\n",
       "      <td>NaN</td>\n",
       "      <td>...</td>\n",
       "      <td>NaN</td>\n",
       "      <td>NaN</td>\n",
       "      <td>NaN</td>\n",
       "      <td>NaN</td>\n",
       "      <td>NaN</td>\n",
       "      <td>NaN</td>\n",
       "      <td>NaN</td>\n",
       "      <td>3</td>\n",
       "      <td>1</td>\n",
       "      <td>2</td>\n",
       "    </tr>\n",
       "    <tr>\n",
       "      <th>1</th>\n",
       "      <td>910220</td>\n",
       "      <td>-1</td>\n",
       "      <td>9.0</td>\n",
       "      <td>0.0</td>\n",
       "      <td>NaN</td>\n",
       "      <td>NaN</td>\n",
       "      <td>NaN</td>\n",
       "      <td>NaN</td>\n",
       "      <td>21.0</td>\n",
       "      <td>11.0</td>\n",
       "      <td>...</td>\n",
       "      <td>4.0</td>\n",
       "      <td>8.0</td>\n",
       "      <td>11.0</td>\n",
       "      <td>10.0</td>\n",
       "      <td>3.0</td>\n",
       "      <td>9.0</td>\n",
       "      <td>4.0</td>\n",
       "      <td>5</td>\n",
       "      <td>2</td>\n",
       "      <td>1</td>\n",
       "    </tr>\n",
       "    <tr>\n",
       "      <th>2</th>\n",
       "      <td>910225</td>\n",
       "      <td>-1</td>\n",
       "      <td>9.0</td>\n",
       "      <td>17.0</td>\n",
       "      <td>NaN</td>\n",
       "      <td>NaN</td>\n",
       "      <td>NaN</td>\n",
       "      <td>NaN</td>\n",
       "      <td>17.0</td>\n",
       "      <td>10.0</td>\n",
       "      <td>...</td>\n",
       "      <td>2.0</td>\n",
       "      <td>9.0</td>\n",
       "      <td>9.0</td>\n",
       "      <td>6.0</td>\n",
       "      <td>3.0</td>\n",
       "      <td>9.0</td>\n",
       "      <td>2.0</td>\n",
       "      <td>5</td>\n",
       "      <td>2</td>\n",
       "      <td>3</td>\n",
       "    </tr>\n",
       "    <tr>\n",
       "      <th>3</th>\n",
       "      <td>910226</td>\n",
       "      <td>2</td>\n",
       "      <td>1.0</td>\n",
       "      <td>13.0</td>\n",
       "      <td>NaN</td>\n",
       "      <td>NaN</td>\n",
       "      <td>NaN</td>\n",
       "      <td>NaN</td>\n",
       "      <td>13.0</td>\n",
       "      <td>1.0</td>\n",
       "      <td>...</td>\n",
       "      <td>0.0</td>\n",
       "      <td>7.0</td>\n",
       "      <td>10.0</td>\n",
       "      <td>11.0</td>\n",
       "      <td>NaN</td>\n",
       "      <td>9.0</td>\n",
       "      <td>7.0</td>\n",
       "      <td>3</td>\n",
       "      <td>2</td>\n",
       "      <td>4</td>\n",
       "    </tr>\n",
       "    <tr>\n",
       "      <th>4</th>\n",
       "      <td>910241</td>\n",
       "      <td>-1</td>\n",
       "      <td>1.0</td>\n",
       "      <td>20.0</td>\n",
       "      <td>NaN</td>\n",
       "      <td>NaN</td>\n",
       "      <td>NaN</td>\n",
       "      <td>NaN</td>\n",
       "      <td>14.0</td>\n",
       "      <td>3.0</td>\n",
       "      <td>...</td>\n",
       "      <td>2.0</td>\n",
       "      <td>3.0</td>\n",
       "      <td>5.0</td>\n",
       "      <td>4.0</td>\n",
       "      <td>2.0</td>\n",
       "      <td>9.0</td>\n",
       "      <td>3.0</td>\n",
       "      <td>4</td>\n",
       "      <td>1</td>\n",
       "      <td>3</td>\n",
       "    </tr>\n",
       "  </tbody>\n",
       "</table>\n",
       "<p>5 rows × 366 columns</p>\n",
       "</div>"
      ],
      "text/plain": [
       "      LNR  AGER_TYP  AKT_DAT_KL  ALTER_HH  ALTER_KIND1  ALTER_KIND2  \\\n",
       "0  910215        -1         NaN       NaN          NaN          NaN   \n",
       "1  910220        -1         9.0       0.0          NaN          NaN   \n",
       "2  910225        -1         9.0      17.0          NaN          NaN   \n",
       "3  910226         2         1.0      13.0          NaN          NaN   \n",
       "4  910241        -1         1.0      20.0          NaN          NaN   \n",
       "\n",
       "   ALTER_KIND3  ALTER_KIND4  ALTERSKATEGORIE_FEIN  ANZ_HAUSHALTE_AKTIV  ...  \\\n",
       "0          NaN          NaN                   NaN                  NaN  ...   \n",
       "1          NaN          NaN                  21.0                 11.0  ...   \n",
       "2          NaN          NaN                  17.0                 10.0  ...   \n",
       "3          NaN          NaN                  13.0                  1.0  ...   \n",
       "4          NaN          NaN                  14.0                  3.0  ...   \n",
       "\n",
       "   VHN  VK_DHT4A  VK_DISTANZ  VK_ZG11  W_KEIT_KIND_HH  WOHNDAUER_2008  \\\n",
       "0  NaN       NaN         NaN      NaN             NaN             NaN   \n",
       "1  4.0       8.0        11.0     10.0             3.0             9.0   \n",
       "2  2.0       9.0         9.0      6.0             3.0             9.0   \n",
       "3  0.0       7.0        10.0     11.0             NaN             9.0   \n",
       "4  2.0       3.0         5.0      4.0             2.0             9.0   \n",
       "\n",
       "   WOHNLAGE ZABEOTYP  ANREDE_KZ  ALTERSKATEGORIE_GROB  \n",
       "0       NaN        3          1                     2  \n",
       "1       4.0        5          2                     1  \n",
       "2       2.0        5          2                     3  \n",
       "3       7.0        3          2                     4  \n",
       "4       3.0        4          1                     3  \n",
       "\n",
       "[5 rows x 366 columns]"
      ]
     },
     "execution_count": 96,
     "metadata": {},
     "output_type": "execute_result"
    }
   ],
   "source": [
    "# checking how the azdias dataframe looks like\n",
    "print('Printing dataframe shape')\n",
    "print(azdias.shape)\n",
    "print('________________________________________________________')\n",
    "\n",
    "azdias.head()"
   ]
  },
  {
   "cell_type": "markdown",
   "metadata": {},
   "source": [
    "#### Customers Shape"
   ]
  },
  {
   "cell_type": "code",
   "execution_count": 97,
   "metadata": {},
   "outputs": [
    {
     "name": "stdout",
     "output_type": "stream",
     "text": [
      "Printing dataframe shape\n",
      "(191652, 366)\n",
      "________________________________________________________\n"
     ]
    },
    {
     "data": {
      "text/html": [
       "<div>\n",
       "<style scoped>\n",
       "    .dataframe tbody tr th:only-of-type {\n",
       "        vertical-align: middle;\n",
       "    }\n",
       "\n",
       "    .dataframe tbody tr th {\n",
       "        vertical-align: top;\n",
       "    }\n",
       "\n",
       "    .dataframe thead th {\n",
       "        text-align: right;\n",
       "    }\n",
       "</style>\n",
       "<table border=\"1\" class=\"dataframe\">\n",
       "  <thead>\n",
       "    <tr style=\"text-align: right;\">\n",
       "      <th></th>\n",
       "      <th>LNR</th>\n",
       "      <th>AGER_TYP</th>\n",
       "      <th>AKT_DAT_KL</th>\n",
       "      <th>ALTER_HH</th>\n",
       "      <th>ALTER_KIND1</th>\n",
       "      <th>ALTER_KIND2</th>\n",
       "      <th>ALTER_KIND3</th>\n",
       "      <th>ALTER_KIND4</th>\n",
       "      <th>ALTERSKATEGORIE_FEIN</th>\n",
       "      <th>ANZ_HAUSHALTE_AKTIV</th>\n",
       "      <th>...</th>\n",
       "      <th>VHN</th>\n",
       "      <th>VK_DHT4A</th>\n",
       "      <th>VK_DISTANZ</th>\n",
       "      <th>VK_ZG11</th>\n",
       "      <th>W_KEIT_KIND_HH</th>\n",
       "      <th>WOHNDAUER_2008</th>\n",
       "      <th>WOHNLAGE</th>\n",
       "      <th>ZABEOTYP</th>\n",
       "      <th>ANREDE_KZ</th>\n",
       "      <th>ALTERSKATEGORIE_GROB</th>\n",
       "    </tr>\n",
       "  </thead>\n",
       "  <tbody>\n",
       "    <tr>\n",
       "      <th>0</th>\n",
       "      <td>9626</td>\n",
       "      <td>2</td>\n",
       "      <td>1.0</td>\n",
       "      <td>10.0</td>\n",
       "      <td>NaN</td>\n",
       "      <td>NaN</td>\n",
       "      <td>NaN</td>\n",
       "      <td>NaN</td>\n",
       "      <td>10.0</td>\n",
       "      <td>1.0</td>\n",
       "      <td>...</td>\n",
       "      <td>3.0</td>\n",
       "      <td>5.0</td>\n",
       "      <td>3.0</td>\n",
       "      <td>2.0</td>\n",
       "      <td>6.0</td>\n",
       "      <td>9.0</td>\n",
       "      <td>7.0</td>\n",
       "      <td>3</td>\n",
       "      <td>1</td>\n",
       "      <td>4</td>\n",
       "    </tr>\n",
       "    <tr>\n",
       "      <th>1</th>\n",
       "      <td>9628</td>\n",
       "      <td>-1</td>\n",
       "      <td>9.0</td>\n",
       "      <td>11.0</td>\n",
       "      <td>NaN</td>\n",
       "      <td>NaN</td>\n",
       "      <td>NaN</td>\n",
       "      <td>NaN</td>\n",
       "      <td>NaN</td>\n",
       "      <td>NaN</td>\n",
       "      <td>...</td>\n",
       "      <td>NaN</td>\n",
       "      <td>6.0</td>\n",
       "      <td>6.0</td>\n",
       "      <td>3.0</td>\n",
       "      <td>0.0</td>\n",
       "      <td>9.0</td>\n",
       "      <td>NaN</td>\n",
       "      <td>3</td>\n",
       "      <td>1</td>\n",
       "      <td>4</td>\n",
       "    </tr>\n",
       "    <tr>\n",
       "      <th>2</th>\n",
       "      <td>143872</td>\n",
       "      <td>-1</td>\n",
       "      <td>1.0</td>\n",
       "      <td>6.0</td>\n",
       "      <td>NaN</td>\n",
       "      <td>NaN</td>\n",
       "      <td>NaN</td>\n",
       "      <td>NaN</td>\n",
       "      <td>0.0</td>\n",
       "      <td>1.0</td>\n",
       "      <td>...</td>\n",
       "      <td>4.0</td>\n",
       "      <td>10.0</td>\n",
       "      <td>13.0</td>\n",
       "      <td>11.0</td>\n",
       "      <td>6.0</td>\n",
       "      <td>9.0</td>\n",
       "      <td>2.0</td>\n",
       "      <td>3</td>\n",
       "      <td>2</td>\n",
       "      <td>4</td>\n",
       "    </tr>\n",
       "    <tr>\n",
       "      <th>3</th>\n",
       "      <td>143873</td>\n",
       "      <td>1</td>\n",
       "      <td>1.0</td>\n",
       "      <td>8.0</td>\n",
       "      <td>NaN</td>\n",
       "      <td>NaN</td>\n",
       "      <td>NaN</td>\n",
       "      <td>NaN</td>\n",
       "      <td>8.0</td>\n",
       "      <td>0.0</td>\n",
       "      <td>...</td>\n",
       "      <td>2.0</td>\n",
       "      <td>6.0</td>\n",
       "      <td>4.0</td>\n",
       "      <td>2.0</td>\n",
       "      <td>NaN</td>\n",
       "      <td>9.0</td>\n",
       "      <td>7.0</td>\n",
       "      <td>1</td>\n",
       "      <td>1</td>\n",
       "      <td>4</td>\n",
       "    </tr>\n",
       "    <tr>\n",
       "      <th>4</th>\n",
       "      <td>143874</td>\n",
       "      <td>-1</td>\n",
       "      <td>1.0</td>\n",
       "      <td>20.0</td>\n",
       "      <td>NaN</td>\n",
       "      <td>NaN</td>\n",
       "      <td>NaN</td>\n",
       "      <td>NaN</td>\n",
       "      <td>14.0</td>\n",
       "      <td>7.0</td>\n",
       "      <td>...</td>\n",
       "      <td>4.0</td>\n",
       "      <td>3.0</td>\n",
       "      <td>5.0</td>\n",
       "      <td>4.0</td>\n",
       "      <td>2.0</td>\n",
       "      <td>9.0</td>\n",
       "      <td>3.0</td>\n",
       "      <td>1</td>\n",
       "      <td>1</td>\n",
       "      <td>3</td>\n",
       "    </tr>\n",
       "  </tbody>\n",
       "</table>\n",
       "<p>5 rows × 366 columns</p>\n",
       "</div>"
      ],
      "text/plain": [
       "      LNR  AGER_TYP  AKT_DAT_KL  ALTER_HH  ALTER_KIND1  ALTER_KIND2  \\\n",
       "0    9626         2         1.0      10.0          NaN          NaN   \n",
       "1    9628        -1         9.0      11.0          NaN          NaN   \n",
       "2  143872        -1         1.0       6.0          NaN          NaN   \n",
       "3  143873         1         1.0       8.0          NaN          NaN   \n",
       "4  143874        -1         1.0      20.0          NaN          NaN   \n",
       "\n",
       "   ALTER_KIND3  ALTER_KIND4  ALTERSKATEGORIE_FEIN  ANZ_HAUSHALTE_AKTIV  ...  \\\n",
       "0          NaN          NaN                  10.0                  1.0  ...   \n",
       "1          NaN          NaN                   NaN                  NaN  ...   \n",
       "2          NaN          NaN                   0.0                  1.0  ...   \n",
       "3          NaN          NaN                   8.0                  0.0  ...   \n",
       "4          NaN          NaN                  14.0                  7.0  ...   \n",
       "\n",
       "   VHN  VK_DHT4A  VK_DISTANZ  VK_ZG11  W_KEIT_KIND_HH  WOHNDAUER_2008  \\\n",
       "0  3.0       5.0         3.0      2.0             6.0             9.0   \n",
       "1  NaN       6.0         6.0      3.0             0.0             9.0   \n",
       "2  4.0      10.0        13.0     11.0             6.0             9.0   \n",
       "3  2.0       6.0         4.0      2.0             NaN             9.0   \n",
       "4  4.0       3.0         5.0      4.0             2.0             9.0   \n",
       "\n",
       "   WOHNLAGE ZABEOTYP  ANREDE_KZ  ALTERSKATEGORIE_GROB  \n",
       "0       7.0        3          1                     4  \n",
       "1       NaN        3          1                     4  \n",
       "2       2.0        3          2                     4  \n",
       "3       7.0        1          1                     4  \n",
       "4       3.0        1          1                     3  \n",
       "\n",
       "[5 rows x 366 columns]"
      ]
     },
     "execution_count": 97,
     "metadata": {},
     "output_type": "execute_result"
    }
   ],
   "source": [
    "# checking how the customer dataframe looks like\n",
    "print('Printing dataframe shape')\n",
    "print(customers.shape)\n",
    "print('________________________________________________________')\n",
    "\n",
    "customers.head()"
   ]
  },
  {
   "cell_type": "markdown",
   "metadata": {},
   "source": [
    "#### feat_info shape"
   ]
  },
  {
   "cell_type": "code",
   "execution_count": 98,
   "metadata": {},
   "outputs": [
    {
     "name": "stdout",
     "output_type": "stream",
     "text": [
      "(324, 4)\n"
     ]
    },
    {
     "data": {
      "text/html": [
       "<div>\n",
       "<style scoped>\n",
       "    .dataframe tbody tr th:only-of-type {\n",
       "        vertical-align: middle;\n",
       "    }\n",
       "\n",
       "    .dataframe tbody tr th {\n",
       "        vertical-align: top;\n",
       "    }\n",
       "\n",
       "    .dataframe thead th {\n",
       "        text-align: right;\n",
       "    }\n",
       "</style>\n",
       "<table border=\"1\" class=\"dataframe\">\n",
       "  <thead>\n",
       "    <tr style=\"text-align: right;\">\n",
       "      <th></th>\n",
       "      <th>attribute</th>\n",
       "      <th>information_level</th>\n",
       "      <th>type</th>\n",
       "      <th>missing_or_unknown</th>\n",
       "    </tr>\n",
       "  </thead>\n",
       "  <tbody>\n",
       "    <tr>\n",
       "      <th>0</th>\n",
       "      <td>AGER_TYP</td>\n",
       "      <td>person</td>\n",
       "      <td>categorical</td>\n",
       "      <td>[-1,0]</td>\n",
       "    </tr>\n",
       "    <tr>\n",
       "      <th>1</th>\n",
       "      <td>ALTERSKATEGORIE_GROB</td>\n",
       "      <td>person</td>\n",
       "      <td>ordinal</td>\n",
       "      <td>[-1,0,9]</td>\n",
       "    </tr>\n",
       "    <tr>\n",
       "      <th>2</th>\n",
       "      <td>ANREDE_KZ</td>\n",
       "      <td>person</td>\n",
       "      <td>categorical</td>\n",
       "      <td>[-1,0]</td>\n",
       "    </tr>\n",
       "    <tr>\n",
       "      <th>3</th>\n",
       "      <td>CJT_GESAMTTYP</td>\n",
       "      <td>person</td>\n",
       "      <td>categorical</td>\n",
       "      <td>[0]</td>\n",
       "    </tr>\n",
       "    <tr>\n",
       "      <th>4</th>\n",
       "      <td>FINANZ_MINIMALIST</td>\n",
       "      <td>person</td>\n",
       "      <td>ordinal</td>\n",
       "      <td>[-1]</td>\n",
       "    </tr>\n",
       "  </tbody>\n",
       "</table>\n",
       "</div>"
      ],
      "text/plain": [
       "              attribute information_level         type missing_or_unknown\n",
       "0              AGER_TYP            person  categorical             [-1,0]\n",
       "1  ALTERSKATEGORIE_GROB            person      ordinal           [-1,0,9]\n",
       "2             ANREDE_KZ            person  categorical             [-1,0]\n",
       "3         CJT_GESAMTTYP            person  categorical                [0]\n",
       "4     FINANZ_MINIMALIST            person      ordinal               [-1]"
      ]
     },
     "execution_count": 98,
     "metadata": {},
     "output_type": "execute_result"
    }
   ],
   "source": [
    "# Check the summary csv file\n",
    "print(feat_info.shape)\n",
    "feat_info.head()"
   ]
  },
  {
   "cell_type": "markdown",
   "metadata": {},
   "source": [
    "#### We can see azdias and customers have similar number of columns now\n",
    "#### azdias: (891221, 366)  customers: (191652, 366)"
   ]
  },
  {
   "cell_type": "markdown",
   "metadata": {},
   "source": [
    "## Preprocessing\n",
    "Here I will investigate and deal with missing values, re-encode features, feature engineering and feature scaling"
   ]
  },
  {
   "cell_type": "code",
   "execution_count": 99,
   "metadata": {},
   "outputs": [],
   "source": [
    "azdias_pre_cleanup = azdias.copy()\n",
    "customers_pre_cleanup = customers.copy()"
   ]
  },
  {
   "cell_type": "code",
   "execution_count": 100,
   "metadata": {},
   "outputs": [],
   "source": [
    "unknowns_to_NANs(azdias, dias)"
   ]
  },
  {
   "cell_type": "code",
   "execution_count": 101,
   "metadata": {},
   "outputs": [],
   "source": [
    "unknowns_to_NANs(customers, dias)"
   ]
  },
  {
   "cell_type": "markdown",
   "metadata": {},
   "source": [
    "I am going to drop columns of missing data over a a threshold, I need to check the columns between azdias and customers on processed data. To start with I am defining threshold as 30%."
   ]
  },
  {
   "cell_type": "code",
   "execution_count": 102,
   "metadata": {},
   "outputs": [
    {
     "name": "stdout",
     "output_type": "stream",
     "text": [
      "Feature balance between dfs?:  True\n"
     ]
    }
   ],
   "source": [
    "balance_checker(azdias, customers)"
   ]
  },
  {
   "cell_type": "markdown",
   "metadata": {},
   "source": [
    "#### Match azdias and customers before cleanup"
   ]
  },
  {
   "cell_type": "code",
   "execution_count": 103,
   "metadata": {},
   "outputs": [],
   "source": [
    "percent_missing_azdias_df = percentage_of_missing(azdias)\n",
    "percent_missing_azdias_pc_df = percentage_of_missing(azdias_pre_cleanup)\n",
    "\n",
    "percent_missing_customers_df = percentage_of_missing(customers)\n",
    "percent_missing_customers_pc_df = percentage_of_missing(customers_pre_cleanup)"
   ]
  },
  {
   "cell_type": "code",
   "execution_count": 104,
   "metadata": {},
   "outputs": [
    {
     "name": "stdout",
     "output_type": "stream",
     "text": [
      "Identified missing data in Azdias: \n",
      "Pre-cleanup: 33493669 Post_cleanup: 37088263\n",
      "Identified missing data in Customers: \n",
      "Pre-cleanup: 13864774 Post_cleanup: 14488721\n"
     ]
    }
   ],
   "source": [
    "print('Identified missing data in Azdias: ')\n",
    "print('Pre-cleanup: ' + str(azdias_pre_cleanup.isnull().sum().sum()) + \n",
    "      ' Post_cleanup: ' + str(azdias.isnull().sum().sum()))\n",
    "\n",
    "print('Identified missing data in Customers: ')\n",
    "print('Pre-cleanup: ' + str(customers_pre_cleanup.isnull().sum().sum()) +\n",
    "      ' Post_cleanup: ' + str(customers.isnull().sum().sum()))"
   ]
  },
  {
   "cell_type": "code",
   "execution_count": 105,
   "metadata": {},
   "outputs": [
    {
     "name": "stdout",
     "output_type": "stream",
     "text": [
      "Azdias columns not missing values(percentage):\n",
      "Pre-cleanup:  87\n",
      "Post-cleanup:  93\n",
      "Customers columns not missing values(percentage):\n",
      "Pre-cleanup:  87\n",
      "Post-cleanup:  93\n"
     ]
    }
   ],
   "source": [
    "print('Azdias columns not missing values(percentage):')\n",
    "print('Pre-cleanup: ', (percent_missing_azdias_df['percent_missing'] == 0.0).sum())\n",
    "print('Post-cleanup: ', (percent_missing_azdias_pc_df['percent_missing'] == 0.0).sum())\n",
    "\n",
    "print('Customers columns not missing values(percentage):')\n",
    "print('Pre-cleanup: ', (percent_missing_customers_df['percent_missing'] == 0.0).sum())\n",
    "print('Post-cleanup: ', (percent_missing_customers_pc_df['percent_missing'] == 0.0).sum())"
   ]
  },
  {
   "cell_type": "markdown",
   "metadata": {},
   "source": [
    "#### Defining the threshold to decide what can to go"
   ]
  },
  {
   "cell_type": "code",
   "execution_count": 106,
   "metadata": {},
   "outputs": [],
   "source": [
    "# missing more or less than 30% of the data\n",
    "azdias_missing_over_30 = split_on_percentage(percent_missing_azdias_df, 30, '>')\n",
    "azdias_missing_less_30 = split_on_percentage(percent_missing_azdias_df, 30, '<=')\n",
    "\n",
    "customers_missing_over_30 = split_on_percentage(percent_missing_customers_df, 30, '>')\n",
    "customers_missing_less_30 = split_on_percentage(percent_missing_customers_df, 30, '<=')"
   ]
  },
  {
   "cell_type": "code",
   "execution_count": 107,
   "metadata": {},
   "outputs": [
    {
     "data": {
      "image/png": "[encoded data removed]",
      "text/plain": [
       "<Figure size 1080x1080 with 4 Axes>"
      ]
     },
     "metadata": {},
     "output_type": "display_data"
    }
   ],
   "source": [
    "#plotting select features and their missing data percentages\n",
    "figure, axes = plt.subplots(4, 1, figsize = (15,15), squeeze = False)\n",
    "\n",
    "azdias_missing_over_30.sort_values(by = 'percent_missing', ascending = False).plot(kind = 'bar', x = 'column_name', y = 'percent_missing',\n",
    "                                                                                ax = axes[0][0], color = 'cyan', title = 'Azdias percentage of missing values over 30%' )\n",
    "\n",
    "#due to the sheer amount of data points to be plotted this does not make an appealing vis so I will restrict\n",
    "#the number of plotted points to 40\n",
    "azdias_missing_less_30.sort_values(by = 'percent_missing', ascending = False)[:40].plot(kind = 'bar', x = 'column_name', y = 'percent_missing',\n",
    "                                                                                ax = axes[1][0], color = 'cyan', title = 'Azdias percentage of missing values less 30%' )\n",
    "\n",
    "customers_missing_over_30.sort_values(by = 'percent_missing', ascending = False).plot(kind = 'bar', x = 'column_name', y = 'percent_missing',\n",
    "                                                                                ax = axes[2][0], color = 'grey', title = 'Customers percentage of missing values over 30%' )\n",
    "\n",
    "#due to the sheer amount of data points to be plotted this does not make an appealing vis so I will restrict\n",
    "#the number of plotted points to 40\n",
    "customers_missing_less_30.sort_values(by = 'percent_missing', ascending = False)[:40].plot(kind = 'bar', x = 'column_name', y = 'percent_missing',\n",
    "                                                                                ax = axes[3][0],color = 'grey', title = 'Customers percentage of missing values less 30%' )\n",
    "\n",
    "plt.tight_layout()\n",
    "plt.show()"
   ]
  },
  {
   "cell_type": "markdown",
   "metadata": {},
   "source": [
    "### I will be taking out columns which are missing data over 30 % as majority of the columns have missing data less than 30%"
   ]
  },
  {
   "cell_type": "code",
   "execution_count": 108,
   "metadata": {},
   "outputs": [],
   "source": [
    "#extracting column names with more than 30% values missing so we can drop them from azdias df\n",
    "azdias_col_delete = columns_to_delete(azdias_missing_over_30)\n",
    "\n",
    "#extracting column names with more than 30% values missing so we can drop them from customers df\n",
    "customers_col_delete = columns_to_delete(customers_missing_over_30)"
   ]
  },
  {
   "cell_type": "code",
   "execution_count": 109,
   "metadata": {},
   "outputs": [],
   "source": [
    "#dropping the columns identified in the previous lists\n",
    "\n",
    "azdias = azdias.drop(azdias_col_delete, axis = 1)\n",
    "customers = customers.drop(customers_col_delete, axis = 1)"
   ]
  },
  {
   "cell_type": "code",
   "execution_count": 110,
   "metadata": {},
   "outputs": [
    {
     "name": "stdout",
     "output_type": "stream",
     "text": [
      "Feature balance between dfs?:  False\n",
      "Your first argument df differs from the second on the following columns: \n",
      "{'KKK', 'REGIOTYP'}\n",
      "Your second argument df differs from the first on the following columns: \n",
      "set()\n"
     ]
    }
   ],
   "source": [
    "#since I just dropped several columns I will do another balance check\n",
    "balance_checker(azdias, customers)"
   ]
  },
  {
   "cell_type": "markdown",
   "metadata": {},
   "source": [
    "### Lets check if its beneficial to drop rows which are of less significance in our analysis"
   ]
  },
  {
   "cell_type": "code",
   "execution_count": 58,
   "metadata": {},
   "outputs": [
    {
     "data": {
      "image/png": "[encoded data removed]",
      "text/plain": [
       "<Figure size 576x576 with 1 Axes>"
      ]
     },
     "metadata": {},
     "output_type": "display_data"
    }
   ],
   "source": [
    "#plotting distribution of null values\n",
    "row_hist(azdias, customers, 30)"
   ]
  },
  {
   "cell_type": "markdown",
   "metadata": {},
   "source": [
    "#### The above visualization shows us that majority of rows have less than 100 missing values and we can see the rows of two datasets overlapping indicating both are missing same info\n"
   ]
  },
  {
   "cell_type": "markdown",
   "metadata": {},
   "source": [
    "#deleting rows based on the above info\n",
    "#azdias = row_dropper(azdias, 100)\n",
    "#customers = row_dropper(customers, 100)"
   ]
  },
  {
   "cell_type": "markdown",
   "metadata": {},
   "source": [
    "#plotting null values distribution after cleanup\n",
    "#row_hist(azdias, customers, 30)"
   ]
  },
  {
   "cell_type": "code",
   "execution_count": 111,
   "metadata": {},
   "outputs": [
    {
     "name": "stdout",
     "output_type": "stream",
     "text": [
      "Feature balance between dfs?:  False\n",
      "Your first argument df differs from the second on the following columns: \n",
      "{'KKK', 'REGIOTYP'}\n",
      "Your second argument df differs from the first on the following columns: \n",
      "set()\n"
     ]
    }
   ],
   "source": [
    "balance_checker(azdias, customers)"
   ]
  },
  {
   "cell_type": "markdown",
   "metadata": {},
   "source": [
    "#### Its a good idea not to drop rows as it worsens the clustering performance"
   ]
  },
  {
   "cell_type": "markdown",
   "metadata": {},
   "source": [
    "## Feature Encoding\n",
    "\n",
    "### There are many features we have to re-encode to proceed with the Unsupervised learning portion\n",
    "\n",
    "I will be re-encoding Categorical features and mixed type features."
   ]
  },
  {
   "cell_type": "code",
   "execution_count": 112,
   "metadata": {},
   "outputs": [
    {
     "data": {
      "text/html": [
       "<div>\n",
       "<style scoped>\n",
       "    .dataframe tbody tr th:only-of-type {\n",
       "        vertical-align: middle;\n",
       "    }\n",
       "\n",
       "    .dataframe tbody tr th {\n",
       "        vertical-align: top;\n",
       "    }\n",
       "\n",
       "    .dataframe thead th {\n",
       "        text-align: right;\n",
       "    }\n",
       "</style>\n",
       "<table border=\"1\" class=\"dataframe\">\n",
       "  <thead>\n",
       "    <tr style=\"text-align: right;\">\n",
       "      <th></th>\n",
       "      <th>attribute</th>\n",
       "      <th>information_level</th>\n",
       "      <th>type</th>\n",
       "      <th>missing_or_unknown</th>\n",
       "    </tr>\n",
       "  </thead>\n",
       "  <tbody>\n",
       "    <tr>\n",
       "      <th>15</th>\n",
       "      <td>LP_LEBENSPHASE_FEIN</td>\n",
       "      <td>person</td>\n",
       "      <td>mixed</td>\n",
       "      <td>[0]</td>\n",
       "    </tr>\n",
       "    <tr>\n",
       "      <th>16</th>\n",
       "      <td>LP_LEBENSPHASE_GROB</td>\n",
       "      <td>person</td>\n",
       "      <td>mixed</td>\n",
       "      <td>[0]</td>\n",
       "    </tr>\n",
       "    <tr>\n",
       "      <th>22</th>\n",
       "      <td>PRAEGENDE_JUGENDJAHRE</td>\n",
       "      <td>person</td>\n",
       "      <td>mixed</td>\n",
       "      <td>[-1,0]</td>\n",
       "    </tr>\n",
       "    <tr>\n",
       "      <th>89</th>\n",
       "      <td>WOHNLAGE</td>\n",
       "      <td>building</td>\n",
       "      <td>mixed</td>\n",
       "      <td>[-1]</td>\n",
       "    </tr>\n",
       "    <tr>\n",
       "      <th>92</th>\n",
       "      <td>CAMEO_INTL_2015</td>\n",
       "      <td>microcell_rr4</td>\n",
       "      <td>mixed</td>\n",
       "      <td>[-1,XX]</td>\n",
       "    </tr>\n",
       "    <tr>\n",
       "      <th>103</th>\n",
       "      <td>KBA05_BAUMAX</td>\n",
       "      <td>microcell_rr3</td>\n",
       "      <td>mixed</td>\n",
       "      <td>[-1,0]</td>\n",
       "    </tr>\n",
       "    <tr>\n",
       "      <th>318</th>\n",
       "      <td>PLZ8_BAUMAX</td>\n",
       "      <td>plz8</td>\n",
       "      <td>mixed</td>\n",
       "      <td>[-1,0]</td>\n",
       "    </tr>\n",
       "  </tbody>\n",
       "</table>\n",
       "</div>"
      ],
      "text/plain": [
       "                 attribute information_level   type missing_or_unknown\n",
       "15     LP_LEBENSPHASE_FEIN            person  mixed                [0]\n",
       "16     LP_LEBENSPHASE_GROB            person  mixed                [0]\n",
       "22   PRAEGENDE_JUGENDJAHRE            person  mixed             [-1,0]\n",
       "89                WOHNLAGE          building  mixed               [-1]\n",
       "92         CAMEO_INTL_2015     microcell_rr4  mixed            [-1,XX]\n",
       "103           KBA05_BAUMAX     microcell_rr3  mixed             [-1,0]\n",
       "318            PLZ8_BAUMAX              plz8  mixed             [-1,0]"
      ]
     },
     "execution_count": 112,
     "metadata": {},
     "output_type": "execute_result"
    }
   ],
   "source": [
    "#checking for mixed type features\n",
    "feat_info[feat_info.type == 'mixed']"
   ]
  },
  {
   "cell_type": "code",
   "execution_count": 113,
   "metadata": {},
   "outputs": [
    {
     "data": {
      "text/plain": [
       "['AGER_TYP',\n",
       " 'ANREDE_KZ',\n",
       " 'CJT_GESAMTTYP',\n",
       " 'FINANZTYP',\n",
       " 'GFK_URLAUBERTYP',\n",
       " 'GREEN_AVANTGARDE',\n",
       " 'LP_FAMILIE_FEIN',\n",
       " 'LP_FAMILIE_GROB',\n",
       " 'LP_STATUS_FEIN',\n",
       " 'LP_STATUS_GROB',\n",
       " 'NATIONALITAET_KZ',\n",
       " 'SHOPPER_TYP',\n",
       " 'SOHO_KZ',\n",
       " 'TITEL_KZ',\n",
       " 'VERS_TYP',\n",
       " 'ZABEOTYP',\n",
       " 'KK_KUNDENTYP',\n",
       " 'D19_KONSUMTYP',\n",
       " 'D19_GESAMT_ANZ_12',\n",
       " 'D19_GESAMT_ANZ_24',\n",
       " 'D19_BANKEN_ANZ_12',\n",
       " 'D19_BANKEN_ANZ_24',\n",
       " 'D19_TELKO_ ANZ_12',\n",
       " 'D19_TELKO_ ANZ_24',\n",
       " 'D19_VERSI_ ANZ_12 ',\n",
       " 'D19_VERSI_ ANZ_24',\n",
       " 'D19_VERSAND_ ANZ_12 ',\n",
       " 'D19_VERSAND_ ANZ_24',\n",
       " 'D19_GESAMT_OFFLINE_DATUM',\n",
       " 'D19_GESAMT_ONLINE_DATUM',\n",
       " 'D19_GESAMT_DATUM',\n",
       " 'D19_BANKEN_OFFLINE_DATUM',\n",
       " 'D19_BANKEN_ONLINE_DATUM',\n",
       " 'D19_BANKEN_DATUM',\n",
       " 'D19_TELKO_OFFLINE_DATUM',\n",
       " 'D19_TELKO_ONLINE_DATUM',\n",
       " 'D19_TELKO_DATUM',\n",
       " 'D19_VERSAND_OFFLINE_DATUM',\n",
       " 'D19_VERSAND_ONLINE_DATUM',\n",
       " 'D19_VERSAND_DATUM',\n",
       " 'D19_VERSI_OFFLINE_DATUM',\n",
       " 'D19_VERSI_ONLINE_DATUM',\n",
       " 'D19_VERSI_DATUM',\n",
       " 'D19_GESAMT_ONLINE_QUOTE_12',\n",
       " 'D19_BANKEN_ONLINE_QUOTE_12',\n",
       " 'D19_VERSAND_ONLINE_QUOTE_12',\n",
       " 'GEBAEUDETYP',\n",
       " 'OST_WEST_KZ',\n",
       " 'CAMEO_DEUG_2015',\n",
       " 'CAMEO_DEU_2015']"
      ]
     },
     "execution_count": 113,
     "metadata": {},
     "output_type": "execute_result"
    }
   ],
   "source": [
    "#retrieve a list of categorical features for future encoding\n",
    "cats = feat_info[feat_info.type == 'categorical']\n",
    "list(cats['attribute'])"
   ]
  },
  {
   "cell_type": "markdown",
   "metadata": {},
   "source": [
    "In the CAMEO_INTL_2015 column I have converted XX to nan\n",
    "\n",
    "PRAEGENDE_JUGENDJAHRE has 3 dimensions: generation decade, mainstream or avant-garde and east or west, hence I will create new features out of this particular column.\n",
    "\n",
    "LP_LEBENSPHASE_GROB seems to encode the same information as the CAMEO column and it is divided between gross(grob) and fine (fein) "
   ]
  },
  {
   "cell_type": "code",
   "execution_count": 114,
   "metadata": {},
   "outputs": [
    {
     "name": "stdout",
     "output_type": "stream",
     "text": [
      "Feature balance between dfs?:  False\n",
      "Your first argument df differs from the second on the following columns: \n",
      "{'KKK', 'REGIOTYP'}\n",
      "Your second argument df differs from the first on the following columns: \n",
      "set()\n"
     ]
    }
   ],
   "source": [
    "balance_checker(azdias, customers)"
   ]
  },
  {
   "cell_type": "markdown",
   "metadata": {},
   "source": [
    "## Feature engineering\n",
    "#### Based on the previous exploration there are a few features that are good candidates for novel feature creation"
   ]
  },
  {
   "cell_type": "code",
   "execution_count": 115,
   "metadata": {},
   "outputs": [
    {
     "name": "stdout",
     "output_type": "stream",
     "text": [
      "Creating PRAEGENDE_JUGENDJAHRE_DECADE feature\n",
      "Creating PRAEGENDE_JUGENDJAHRE_MOVEMENT feature\n",
      "Creating WOHNLAGE_QUALITY feature\n",
      "Creating WOHNLAGE_AREA feature\n",
      "Creating Wealth and Family feature\n",
      "Creating LP_LEBENSPHASE_FEIN_life_stage and LP_LEBENSPHASE_FEIN_fine_scale feature\n",
      "Creating PRAEGENDE_JUGENDJAHRE_DECADE feature\n",
      "Creating PRAEGENDE_JUGENDJAHRE_MOVEMENT feature\n",
      "Creating WOHNLAGE_QUALITY feature\n",
      "Creating WOHNLAGE_AREA feature\n",
      "Creating Wealth and Family feature\n",
      "Creating LP_LEBENSPHASE_FEIN_life_stage and LP_LEBENSPHASE_FEIN_fine_scale feature\n"
     ]
    }
   ],
   "source": [
    "azdias_eng = azdias.copy()\n",
    "customers_eng = customers.copy()\n",
    "azdias_eng = feat_eng(azdias_eng)\n",
    "customers_eng = feat_eng(customers_eng)"
   ]
  },
  {
   "cell_type": "markdown",
   "metadata": {},
   "source": [
    "balance_checker(azdias, customers)"
   ]
  },
  {
   "cell_type": "markdown",
   "metadata": {},
   "source": [
    "## Feature scaling\n",
    "### I will be performing feature scaling to have continuous features in identical scales\n"
   ]
  },
  {
   "cell_type": "code",
   "execution_count": 169,
   "metadata": {},
   "outputs": [],
   "source": [
    "#dataframes using StandardScaler\n",
    "azdias_SS = feature_scaling(azdias_eng, 'StandardScaler')\n",
    "customers_SS = feature_scaling(customers_eng, 'StandardScaler')"
   ]
  },
  {
   "cell_type": "code",
   "execution_count": 170,
   "metadata": {},
   "outputs": [],
   "source": [
    "#dataframes using MinMaxScaler\n",
    "azdias_MMS = feature_scaling(azdias_eng, 'MinMaxScaler')\n",
    "customers_MMS = feature_scaling(customers_eng, 'MinMaxScaler')"
   ]
  },
  {
   "cell_type": "markdown",
   "metadata": {},
   "source": [
    "## Dimensionality Reduction\n",
    "### I will use PCA to consider only most impacting features which helps in identifying patterns and reduce complexity of further analysis"
   ]
  },
  {
   "cell_type": "code",
   "execution_count": 118,
   "metadata": {},
   "outputs": [],
   "source": [
    "n_components_azdias = len(azdias_SS.columns.values)\n",
    "n_components_customers = len(customers_SS.columns.values)\n",
    "\n",
    "azdias_SS_pca = pca_model(azdias_SS, n_components_azdias)\n",
    "customers_SS_pca = pca_model(customers_SS, n_components_customers)\n",
    "\n",
    "azdias_MMS_pca = pca_model(azdias_MMS, n_components_azdias)\n",
    "customers_MMS_pca = pca_model(customers_MMS, n_components_customers)"
   ]
  },
  {
   "cell_type": "code",
   "execution_count": 119,
   "metadata": {},
   "outputs": [
    {
     "data": {
      "image/png": "[encoded data removed]",
      "text/plain": [
       "<Figure size 432x288 with 2 Axes>"
      ]
     },
     "metadata": {},
     "output_type": "display_data"
    }
   ],
   "source": [
    "scree_plots(azdias_SS_pca, azdias_MMS_pca, ' azdias')"
   ]
  },
  {
   "cell_type": "code",
   "execution_count": 120,
   "metadata": {},
   "outputs": [
    {
     "data": {
      "image/png": "[encoded data removed]",
      "text/plain": [
       "<Figure size 432x288 with 2 Axes>"
      ]
     },
     "metadata": {},
     "output_type": "display_data"
    }
   ],
   "source": [
    "scree_plots(customers_SS_pca, customers_MMS_pca, ' customers')"
   ]
  },
  {
   "cell_type": "markdown",
   "metadata": {},
   "source": [
    "Each principal component is a directional vector pointing to the highest variance. The greater the distance from 0 the more the vector points to a feature.\n",
    "\n",
    "Lets check some interesting features in up to the third dimension."
   ]
  },
  {
   "cell_type": "code",
   "execution_count": 121,
   "metadata": {},
   "outputs": [
    {
     "name": "stdout",
     "output_type": "stream",
     "text": [
      "Lowest: \n",
      "\tCAMEO_DEUG_2015      -0.126\n",
      "\tKBA13_ANTG3          -0.124\n",
      "\tPLZ8_ANTG3           -0.124\n",
      "Highest: \n",
      "\tMOBI_RASTER          0.124\n",
      "\tKBA13_ANTG1          0.124\n",
      "\tPLZ8_ANTG1           0.125\n"
     ]
    }
   ],
   "source": [
    "display_interesting_features(azdias_SS, azdias_SS_pca, 0)"
   ]
  },
  {
   "cell_type": "code",
   "execution_count": 122,
   "metadata": {},
   "outputs": [
    {
     "name": "stdout",
     "output_type": "stream",
     "text": [
      "Lowest: \n",
      "\tD19_GESAMT_ONLINE_DATUM -0.143\n",
      "\tD19_GESAMT_DATUM     -0.140\n",
      "\tD19_VERSAND_ONLINE_DATUM -0.138\n",
      "Highest: \n",
      "\tD19_GESAMT_ANZ_12    0.139\n",
      "\tONLINE_AFFINITAET    0.140\n",
      "\tD19_GESAMT_ANZ_24    0.147\n"
     ]
    }
   ],
   "source": [
    "display_interesting_features(azdias_SS, azdias_SS_pca, 1)"
   ]
  },
  {
   "cell_type": "code",
   "execution_count": 123,
   "metadata": {},
   "outputs": [
    {
     "name": "stdout",
     "output_type": "stream",
     "text": [
      "Lowest: \n",
      "\tPRAEGENDE_JUGENDJAHRE_DECADE -0.196\n",
      "\tFINANZ_UNAUFFAELLIGER -0.191\n",
      "\tFINANZ_SPARER        -0.191\n",
      "Highest: \n",
      "\tLP_LEBENSPHASE_FEIN_life_stage 0.147\n",
      "\tALTERSKATEGORIE_GROB 0.160\n",
      "\tFINANZ_VORSORGER     0.168\n"
     ]
    }
   ],
   "source": [
    "display_interesting_features(azdias_SS, azdias_SS_pca, 3)"
   ]
  },
  {
   "cell_type": "markdown",
   "metadata": {},
   "source": [
    "#### Lets have a look at the most important features: \n",
    "- dimension 1(0) using standard scaler:\n",
    "\n",
    "    These are some of features related to positive weights considering positive relationship:\n",
    "    \n",
    "    - MOBI_RASTER: refers to the individual's mobility\n",
    "    - KBA13_ANTG1: lower share of car owners\n",
    "    - PLZ8_ANTG1 : lower number of 1-2 family houses\n",
    "    \n",
    "    And these are some of the feaures related to negative weights considering negative relationship:\n",
    "    \n",
    "    - KBA13_ANTG4: refers to posession of higher number of cars\n",
    "    - PLZ-ANTG3: number of 6-10 family houses in the PLZ8\n",
    "    - CAMEO_DEU_2015: detailed classification os cultural and living status \n",
    "    \n",
    "The first dimension refers to the social status and living conditions of the individuals.\n"
   ]
  },
  {
   "cell_type": "markdown",
   "metadata": {},
   "source": [
    "#### Based on these plots:\n",
    "- using standard scaler with 150 principal components 90% of the original variance can be represented\n",
    "- using minmax scaler with 150 components we represent 90% of the original variance"
   ]
  },
  {
   "cell_type": "markdown",
   "metadata": {},
   "source": [
    "## Part 1: Customer Segmentation Report\n",
    "\n",
    "The main bulk of your analysis will come in this part of the project. Here, you should use unsupervised learning techniques to describe the relationship between the demographics of the company's existing customers and the general population of Germany. By the end of this part, you should be able to describe parts of the general population that are more likely to be part of the mail-order company's main customer base, and which parts of the general population are less so."
   ]
  },
  {
   "cell_type": "markdown",
   "metadata": {},
   "source": [
    "### Let start with Kmeans to find relevant clusters"
   ]
  },
  {
   "cell_type": "markdown",
   "metadata": {},
   "source": [
    "####  I need to decide on number of clusters for Kmeans"
   ]
  },
  {
   "cell_type": "code",
   "execution_count": 175,
   "metadata": {},
   "outputs": [],
   "source": [
    "azdias_SS1 = azdias_SS\n",
    "azdias_MMS1 = azdias_MMS"
   ]
  },
  {
   "cell_type": "code",
   "execution_count": 176,
   "metadata": {},
   "outputs": [],
   "source": [
    "pca = PCA(150)\n",
    "azdias_SS_pca1 = pca.fit_transform(azdias_SS1)\n",
    "azdias_MMS_PCA1 = pca.fit_transform(azdias_MMS1)"
   ]
  },
  {
   "cell_type": "code",
   "execution_count": 186,
   "metadata": {},
   "outputs": [],
   "source": [
    "pca = PCA(150)\n",
    "azdias_SS_pca = pca.fit_transform(azdias_SS)\n",
    "customers_SS_PCA = pca.fit_transform(customers_SS)"
   ]
  },
  {
   "cell_type": "markdown",
   "metadata": {},
   "source": [
    "The elbow method (https://bl.ocks.org/rpgove/0060ff3b656618e9136b) is a way to validate the optimal number of clusters to use for a particular dataset.\n",
    "It can take some time training the dataset, optimising for the optimal n of clusters means that less resources are used."
   ]
  },
  {
   "cell_type": "markdown",
   "metadata": {},
   "source": [
    "Based on the elbow plot 9 clusters should be enough to proceed with the kmeans training"
   ]
  },
  {
   "cell_type": "code",
   "execution_count": 177,
   "metadata": {},
   "outputs": [],
   "source": [
    "def elbow_method(data):\n",
    "    scores = []\n",
    "    centers = list(range(1,20))\n",
    "    i = 0\n",
    "    for center in centers:\n",
    "        i += 1\n",
    "        print(i)\n",
    "        scores.append(fit_kmeans(data, center))\n",
    "        \n",
    "    # Investigate the change in within-cluster distance across number of clusters.\n",
    "    # Plot the original data with clusters\n",
    "    plt.plot(centers, scores, linestyle='--', marker='o', color='b')\n",
    "    plt.ylabel('SSE score')\n",
    "    plt.xlabel('K')\n",
    "    plt.title('SSE vs K')\n",
    "\n",
    "    #Using a regression to determine where it is a good cluster number to divide the population (when the gradient decreases)\n",
    "    l_reg = LinearRegression()\n",
    "    l_reg.fit(X=np.asarray([[9,10,11,12,13,14]]).reshape(6,1), y=scores[8:14])\n",
    "    predicted =l_reg.predict(np.asarray(range(2,9)).reshape(-1,1))\n",
    "    plt.plot(list(range(2,20)),np.asarray(list(predicted.reshape(-1,1)) + list(scores[8:20])),'r')"
   ]
  },
  {
   "cell_type": "code",
   "execution_count": 179,
   "metadata": {},
   "outputs": [
    {
     "name": "stdout",
     "output_type": "stream",
     "text": [
      "1\n",
      "2\n",
      "3\n",
      "4\n",
      "5\n",
      "6\n",
      "7\n",
      "8\n",
      "9\n",
      "10\n",
      "11\n",
      "12\n",
      "13\n",
      "14\n",
      "15\n",
      "16\n",
      "17\n",
      "18\n",
      "19\n",
      "CPU times: user 3h 44min 46s, sys: 24min 15s, total: 4h 9min 1s\n",
      "Wall time: 2h 46min 58s\n"
     ]
    },
    {
     "data": {
      "image/png": "[encoded data removed]",
      "text/plain": [
       "<Figure size 432x288 with 1 Axes>"
      ]
     },
     "metadata": {},
     "output_type": "display_data"
    }
   ],
   "source": [
    "%%time\n",
    "elbow_method(azdias_SS_pca1)"
   ]
  },
  {
   "cell_type": "code",
   "execution_count": null,
   "metadata": {},
   "outputs": [],
   "source": [
    "%%time\n",
    "elbow_method(azdias_pca_MMS)"
   ]
  },
  {
   "cell_type": "code",
   "execution_count": 279,
   "metadata": {},
   "outputs": [],
   "source": [
    "# refitting using just 9 clusters\n",
    "kmeans = KMeans(9)\n",
    "kmodel = kmeans.fit(azdias_SS_pca)"
   ]
  },
  {
   "cell_type": "code",
   "execution_count": 280,
   "metadata": {},
   "outputs": [],
   "source": [
    "#and now we can compare the customer data to the general demographics\n",
    "azdias_clusters = kmodel.predict(pca.transform(azdias_SS))\n",
    "customers_clusters = kmodel.predict(pca.transform(customers_SS))"
   ]
  },
  {
   "cell_type": "code",
   "execution_count": 281,
   "metadata": {},
   "outputs": [],
   "source": [
    "#getting clusters for the LNRs for the customers\n",
    "cluster_map = pd.DataFrame()\n",
    "cluster_map['LNR'] = azdias_eng.index.values\n",
    "cluster_map['cluster'] = kmodel.labels_"
   ]
  },
  {
   "cell_type": "markdown",
   "metadata": {},
   "source": [
    "#### Experimenting with visualization of the clusters"
   ]
  },
  {
   "cell_type": "code",
   "execution_count": 318,
   "metadata": {},
   "outputs": [
    {
     "data": {
      "text/html": [
       "<div>\n",
       "<style scoped>\n",
       "    .dataframe tbody tr th:only-of-type {\n",
       "        vertical-align: middle;\n",
       "    }\n",
       "\n",
       "    .dataframe tbody tr th {\n",
       "        vertical-align: top;\n",
       "    }\n",
       "\n",
       "    .dataframe thead th {\n",
       "        text-align: right;\n",
       "    }\n",
       "</style>\n",
       "<table border=\"1\" class=\"dataframe\">\n",
       "  <thead>\n",
       "    <tr style=\"text-align: right;\">\n",
       "      <th></th>\n",
       "      <th>% of data</th>\n",
       "      <th>Cluster</th>\n",
       "      <th>DataSet</th>\n",
       "    </tr>\n",
       "  </thead>\n",
       "  <tbody>\n",
       "    <tr>\n",
       "      <th>7</th>\n",
       "      <td>21.391898</td>\n",
       "      <td>7</td>\n",
       "      <td>Customers Data</td>\n",
       "    </tr>\n",
       "    <tr>\n",
       "      <th>4</th>\n",
       "      <td>78.584622</td>\n",
       "      <td>4</td>\n",
       "      <td>Customers Data</td>\n",
       "    </tr>\n",
       "    <tr>\n",
       "      <th>3</th>\n",
       "      <td>0.023480</td>\n",
       "      <td>3</td>\n",
       "      <td>Customers Data</td>\n",
       "    </tr>\n",
       "    <tr>\n",
       "      <th>6</th>\n",
       "      <td>8.846852</td>\n",
       "      <td>6</td>\n",
       "      <td>General Population</td>\n",
       "    </tr>\n",
       "    <tr>\n",
       "      <th>3</th>\n",
       "      <td>13.874561</td>\n",
       "      <td>3</td>\n",
       "      <td>General Population</td>\n",
       "    </tr>\n",
       "    <tr>\n",
       "      <th>1</th>\n",
       "      <td>13.862779</td>\n",
       "      <td>1</td>\n",
       "      <td>General Population</td>\n",
       "    </tr>\n",
       "    <tr>\n",
       "      <th>2</th>\n",
       "      <td>8.177994</td>\n",
       "      <td>2</td>\n",
       "      <td>General Population</td>\n",
       "    </tr>\n",
       "    <tr>\n",
       "      <th>7</th>\n",
       "      <td>8.981835</td>\n",
       "      <td>7</td>\n",
       "      <td>General Population</td>\n",
       "    </tr>\n",
       "    <tr>\n",
       "      <th>8</th>\n",
       "      <td>12.629527</td>\n",
       "      <td>8</td>\n",
       "      <td>General Population</td>\n",
       "    </tr>\n",
       "    <tr>\n",
       "      <th>4</th>\n",
       "      <td>14.268627</td>\n",
       "      <td>4</td>\n",
       "      <td>General Population</td>\n",
       "    </tr>\n",
       "    <tr>\n",
       "      <th>5</th>\n",
       "      <td>11.295515</td>\n",
       "      <td>5</td>\n",
       "      <td>General Population</td>\n",
       "    </tr>\n",
       "    <tr>\n",
       "      <th>0</th>\n",
       "      <td>8.062310</td>\n",
       "      <td>0</td>\n",
       "      <td>General Population</td>\n",
       "    </tr>\n",
       "  </tbody>\n",
       "</table>\n",
       "</div>"
      ],
      "text/plain": [
       "   % of data  Cluster             DataSet\n",
       "7  21.391898        7      Customers Data\n",
       "4  78.584622        4      Customers Data\n",
       "3   0.023480        3      Customers Data\n",
       "6   8.846852        6  General Population\n",
       "3  13.874561        3  General Population\n",
       "1  13.862779        1  General Population\n",
       "2   8.177994        2  General Population\n",
       "7   8.981835        7  General Population\n",
       "8  12.629527        8  General Population\n",
       "4  14.268627        4  General Population\n",
       "5  11.295515        5  General Population\n",
       "0   8.062310        0  General Population"
      ]
     },
     "execution_count": 318,
     "metadata": {},
     "output_type": "execute_result"
    }
   ],
   "source": [
    "#preparing cluster visualization\n",
    "from collections import Counter\n",
    "\n",
    "azdias_labels = kmeans.labels_\n",
    "customers_labels = kmeans.labels_\n",
    "\n",
    "model_feat = list(azdias_eng.columns)\n",
    "cust_feat = list(customers_eng.columns)\n",
    "\n",
    "model_feat_df = pd.DataFrame()\n",
    "model_feat_df['model_feat'] = model_feat\n",
    "\n",
    "#Find model features not in customer features\n",
    "model_feat_notin_cust = [feat for feat in model_feat if feat not in cust_feat]\n",
    "len(model_feat_notin_cust)\n",
    "\n",
    "\n",
    "customers_pca = pca.transform(customers_eng)\n",
    "customers_labels = kmeans.predict(customers_pca)\n",
    "\n",
    "counts_customer = Counter(customers_labels)\n",
    "n_customers = customers_pca.shape[0]\n",
    "\n",
    "customer_freqs = {label: 100*(freq / n_customers) for label, freq in counts_customer.items()}\n",
    "\n",
    "counts_population = Counter(azdias_labels)\n",
    "n_population = azdias_SS_pca.shape[0]\n",
    "\n",
    "population_freqs = {label: 100*(freq / n_population) for label, freq in counts_population.items()}\n",
    "\n",
    "\n",
    "customer_clusters = pd.DataFrame.from_dict(customer_freqs, orient='index', columns=['% of data'])\n",
    "customer_clusters['Cluster'] = customer_clusters.index\n",
    "customer_clusters['DataSet'] = 'Customers Data'\n",
    "population_clusters = pd.DataFrame.from_dict(population_freqs, orient='index', columns=['% of data'])\n",
    "population_clusters['Cluster'] = population_clusters.index\n",
    "population_clusters['DataSet'] = 'General Population'\n",
    "\n",
    "all_clusters = pd.concat([customer_clusters, population_clusters])\n",
    "all_clusters"
   ]
  },
  {
   "cell_type": "code",
   "execution_count": 319,
   "metadata": {},
   "outputs": [
    {
     "data": {
      "image/png": "[encoded data removed]",
      "text/plain": [
       "<Figure size 432x288 with 1 Axes>"
      ]
     },
     "metadata": {},
     "output_type": "display_data"
    }
   ],
   "source": [
    "sns.barplot(x='Cluster', y='% of data', hue='DataSet', data=all_clusters)\n",
    "plt.show()"
   ]
  },
  {
   "cell_type": "code",
   "execution_count": 283,
   "metadata": {},
   "outputs": [],
   "source": [
    "#transform the customers using pca\n",
    "customers_pca = pca.transform(customers_SS)\n",
    "\n",
    "#predict clustering using the kmeans\n",
    "predict_customers = kmodel.predict(customers_pca)\n",
    "\n",
    "#cluster and center prediction and info\n",
    "clust_preds = kmodel.predict(azdias_SS_pca)\n",
    "centers = kmodel.cluster_centers_\n"
   ]
  },
  {
   "cell_type": "code",
   "execution_count": 284,
   "metadata": {},
   "outputs": [
    {
     "data": {
      "image/png": "[encoded data removed]",
      "text/plain": [
       "<Figure size 1152x432 with 1 Axes>"
      ]
     },
     "metadata": {},
     "output_type": "display_data"
    }
   ],
   "source": [
    "# Compare the proportion of data in each cluster for the customer data to the\n",
    "# proportion of data in each cluster for the general population.\n",
    "general_pop = []\n",
    "customers_pop = []\n",
    "x = [i+1 for i in range(9)]\n",
    "for i in range(9):\n",
    "    general_pop.append((clust_preds == i).sum()/len(clust_preds))\n",
    "    customers_pop.append((predict_customers == i).sum()/len(predict_customers))\n",
    "\n",
    "\n",
    "df_general = pd.DataFrame({'cluster' : x, 'general_proportion' : general_pop, 'customers_proportion':customers_pop})\n",
    "\n",
    "df_general.plot(x='cluster', y = ['general_proportion', 'customers_proportion'], kind='bar', figsize=(16,6))\n",
    "plt.ylabel('proportion of persons in each cluster')\n",
    "plt.show()"
   ]
  },
  {
   "cell_type": "markdown",
   "metadata": {},
   "source": [
    "## Part 2: Supervised Learning Model\n",
    "\n",
    "Now that you've found which parts of the population are more likely to be customers of the mail-order company, it's time to build a prediction model. Each of the rows in the \"MAILOUT\" data files represents an individual that was targeted for a mailout campaign. Ideally, we should be able to use the demographic information from each individual to decide whether or not it will be worth it to include that person in the campaign.\n",
    "\n",
    "The \"MAILOUT\" data has been split into two approximately equal parts, each with almost 43 000 data rows. In this part, you can verify your model with the \"TRAIN\" partition, which includes a column, \"RESPONSE\", that states whether or not a person became a customer of the company following the campaign. In the next part, you'll need to create predictions on the \"TEST\" partition, where the \"RESPONSE\" column has been withheld."
   ]
  },
  {
   "cell_type": "code",
   "execution_count": 285,
   "metadata": {},
   "outputs": [
    {
     "name": "stderr",
     "output_type": "stream",
     "text": [
      "/home/ec2-user/anaconda3/envs/python3/lib/python3.6/site-packages/IPython/core/interactiveshell.py:2785: DtypeWarning: Columns (19,20) have mixed types. Specify dtype option on import or set low_memory=False.\n",
      "  interactivity=interactivity, compiler=compiler, result=result)\n"
     ]
    }
   ],
   "source": [
    "mailout_train = pd.read_csv(\"mailout_train.csv\")\n",
    "mailout_test = pd.read_csv(\"mailout_test.csv\")"
   ]
  },
  {
   "cell_type": "code",
   "execution_count": 286,
   "metadata": {},
   "outputs": [
    {
     "name": "stdout",
     "output_type": "stream",
     "text": [
      "Creating PRAEGENDE_JUGENDJAHRE_DECADE feature\n",
      "Creating PRAEGENDE_JUGENDJAHRE_MOVEMENT feature\n",
      "Creating WOHNLAGE_QUALITY feature\n",
      "Creating WOHNLAGE_AREA feature\n",
      "Creating Wealth and Family feature\n",
      "Creating LP_LEBENSPHASE_FEIN_life_stage and LP_LEBENSPHASE_FEIN_fine_scale feature\n",
      "Creating PRAEGENDE_JUGENDJAHRE_DECADE feature\n",
      "Creating PRAEGENDE_JUGENDJAHRE_MOVEMENT feature\n",
      "Creating WOHNLAGE_QUALITY feature\n",
      "Creating WOHNLAGE_AREA feature\n",
      "Creating Wealth and Family feature\n",
      "Creating LP_LEBENSPHASE_FEIN_life_stage and LP_LEBENSPHASE_FEIN_fine_scale feature\n"
     ]
    }
   ],
   "source": [
    "#running all the cleaning and feature transformation functions\n",
    "#fixing the mixed type columns\n",
    "mailout_train = special_feature_handler(mailout_train)\n",
    "mailout_test = special_feature_handler(mailout_test)\n",
    "\n",
    "#dealing with missing and unknowns\n",
    "unknowns_to_NANs(mailout_train, dias)\n",
    "unknowns_to_NANs(mailout_test, dias)\n",
    "\n",
    "#getting percentages of missing\n",
    "percent_missing_train = percentage_of_missing(mailout_train)\n",
    "percent_missing_test = percentage_of_missing(mailout_test)\n",
    "\n",
    "#getting missing over 30%\n",
    "train_missing_over_30 = split_on_percentage(percent_missing_train, 30, '>')\n",
    "test_missing_over_30 = split_on_percentage(percent_missing_test, 30, '>')\n",
    "\n",
    "#getting columns to delete\n",
    "train_col_delete = columns_to_delete(train_missing_over_30)\n",
    "test_col_delete = columns_to_delete(test_missing_over_30)\n",
    "\n",
    "#dropping cols\n",
    "mailout_train = mailout_train.drop(train_col_delete, axis = 1)\n",
    "mailout_test = mailout_test.drop(test_col_delete, axis = 1)\n",
    "\n",
    "#feature engineering\n",
    "mailout_train = feat_eng(mailout_train)\n",
    "mailout_test = feat_eng(mailout_test)"
   ]
  },
  {
   "cell_type": "code",
   "execution_count": 287,
   "metadata": {},
   "outputs": [],
   "source": [
    "mailout_train.to_csv('mailout_train_clean.csv')\n",
    "mailout_test.to_csv('mailout_test_clean.csv')"
   ]
  },
  {
   "cell_type": "markdown",
   "metadata": {},
   "source": [
    "#since I just dropped several columns I will do another balance check"
   ]
  },
  {
   "cell_type": "code",
   "execution_count": 288,
   "metadata": {},
   "outputs": [
    {
     "name": "stdout",
     "output_type": "stream",
     "text": [
      "Feature balance between dfs?:  False\n",
      "Your first argument df differs from the second on the following columns: \n",
      "set()\n",
      "Your second argument df differs from the first on the following columns: \n",
      "{'RESPONSE'}\n"
     ]
    }
   ],
   "source": [
    "balance_checker(azdias_eng, mailout_train)"
   ]
  },
  {
   "cell_type": "code",
   "execution_count": 289,
   "metadata": {},
   "outputs": [
    {
     "name": "stdout",
     "output_type": "stream",
     "text": [
      "Feature balance between dfs?:  False\n",
      "Your first argument df differs from the second on the following columns: \n",
      "{'RESPONSE'}\n",
      "Your second argument df differs from the first on the following columns: \n",
      "set()\n"
     ]
    }
   ],
   "source": [
    "balance_checker(mailout_train, mailout_test)"
   ]
  },
  {
   "cell_type": "markdown",
   "metadata": {},
   "source": [
    "#### Before moving on to the model I want to experiment a bit with the identified clusters and how the responses align with the clusters"
   ]
  },
  {
   "cell_type": "code",
   "execution_count": 290,
   "metadata": {},
   "outputs": [],
   "source": [
    "#merging mailout and cluster map on the LNR column\n",
    "clusters_mailout = pd.merge(mailout_train, cluster_map, on = 'LNR')\n",
    "response_and_cluster = clusters_mailout[['LNR', 'RESPONSE', 'cluster']]"
   ]
  },
  {
   "cell_type": "code",
   "execution_count": 291,
   "metadata": {},
   "outputs": [
    {
     "data": {
      "image/png": "[encoded data removed]",
      "text/plain": [
       "<Figure size 432x288 with 1 Axes>"
      ]
     },
     "metadata": {},
     "output_type": "display_data"
    }
   ],
   "source": [
    "ax = sns.countplot(x=\"cluster\", hue=\"RESPONSE\", data=response_and_cluster)"
   ]
  },
  {
   "cell_type": "code",
   "execution_count": 292,
   "metadata": {},
   "outputs": [
    {
     "data": {
      "text/plain": [
       "<matplotlib.axes._subplots.AxesSubplot at 0x7f31900e02b0>"
      ]
     },
     "execution_count": 292,
     "metadata": {},
     "output_type": "execute_result"
    },
    {
     "data": {
      "image/png": "[encoded data removed]",
      "text/plain": [
       "<Figure size 432x288 with 1 Axes>"
      ]
     },
     "metadata": {},
     "output_type": "display_data"
    }
   ],
   "source": [
    "plot1 = response_and_cluster.groupby(['cluster', 'RESPONSE'])['RESPONSE'].count().unstack('RESPONSE')\n",
    "plot1[[0, 1]].plot(kind = 'bar', stacked = True)"
   ]
  },
  {
   "cell_type": "code",
   "execution_count": 293,
   "metadata": {},
   "outputs": [],
   "source": [
    "df_pos_response = response_and_cluster[response_and_cluster['RESPONSE'] == 1]\n",
    "df_neg_response = response_and_cluster[response_and_cluster['RESPONSE'] == 0]"
   ]
  },
  {
   "cell_type": "code",
   "execution_count": 294,
   "metadata": {},
   "outputs": [
    {
     "data": {
      "image/png": "[encoded data removed]",
      "text/plain": [
       "<Figure size 1080x720 with 2 Axes>"
      ]
     },
     "metadata": {},
     "output_type": "display_data"
    }
   ],
   "source": [
    "figure, axes = plt.subplots(2, 1, figsize = (15,15), squeeze = False)\n",
    "\n",
    "pos = df_pos_response['cluster'].value_counts().plot(kind='bar',figsize=(15,10), color = 'C1', ax = axes[0][0], title = 'Clusters with positive responses')\n",
    "neg = df_neg_response['cluster'].value_counts().plot(kind='bar',figsize=(15,10), ax = axes[1][0], title = 'Clusters with negative responses')\n",
    "\n",
    "plt.tight_layout()\n",
    "plt.show()\n"
   ]
  },
  {
   "cell_type": "markdown",
   "metadata": {},
   "source": [
    "### Getting to the models for response prediction"
   ]
  },
  {
   "cell_type": "code",
   "execution_count": 295,
   "metadata": {},
   "outputs": [],
   "source": [
    "#getting the target\n",
    "target = mailout_train['RESPONSE']\n",
    "mailout_train_clean = mailout_train.drop(['RESPONSE'], inplace=False, axis=1)"
   ]
  },
  {
   "cell_type": "code",
   "execution_count": 296,
   "metadata": {},
   "outputs": [],
   "source": [
    "#dropping LNR\n",
    "mailout_test_clean = mailout_test.copy()\n",
    "mailout_train_clean.drop(['LNR'], inplace = True, axis = 1)\n",
    "mailout_test_clean.drop(['LNR'], inplace = True, axis = 1)"
   ]
  },
  {
   "cell_type": "code",
   "execution_count": 297,
   "metadata": {},
   "outputs": [
    {
     "name": "stdout",
     "output_type": "stream",
     "text": [
      "Feature balance between dfs?:  True\n"
     ]
    }
   ],
   "source": [
    "balance_checker(mailout_train_clean, mailout_test_clean)"
   ]
  },
  {
   "cell_type": "code",
   "execution_count": 298,
   "metadata": {},
   "outputs": [
    {
     "data": {
      "text/plain": [
       "Text(0.5, 1.0, 'Label distribution')"
      ]
     },
     "execution_count": 298,
     "metadata": {},
     "output_type": "execute_result"
    },
    {
     "data": {
      "image/png": "[encoded data removed]",
      "text/plain": [
       "<Figure size 432x288 with 1 Axes>"
      ]
     },
     "metadata": {},
     "output_type": "display_data"
    }
   ],
   "source": [
    "#checking the label distribution\n",
    "\n",
    "sns.countplot(target).set_title(\"Label distribution\")"
   ]
  },
  {
   "cell_type": "markdown",
   "metadata": {},
   "source": [
    "Based on this plot these datasets are quite imbalanced, there are quite a few more responses corresponding to 0 than to 1.\n",
    "\n",
    "Considering this accuracy will not be an appropriate metric, ROC-AUC is a better option (1 being a perfect score, and 0.5 just random chance)\n",
    "\n",
    "Lets try model selection"
   ]
  },
  {
   "cell_type": "code",
   "execution_count": 299,
   "metadata": {},
   "outputs": [],
   "source": [
    "SEED = 28"
   ]
  },
  {
   "cell_type": "code",
   "execution_count": 300,
   "metadata": {},
   "outputs": [
    {
     "data": {
      "text/plain": [
       "5"
      ]
     },
     "execution_count": 300,
     "metadata": {},
     "output_type": "execute_result"
    }
   ],
   "source": [
    "# 5 stratified folds\n",
    "skf = StratifiedKFold(n_splits=5, random_state=SEED, shuffle=True)\n",
    "skf.get_n_splits(mailout_train_clean, target)"
   ]
  },
  {
   "cell_type": "markdown",
   "metadata": {},
   "source": [
    "The best performing model seem to be XGB so from here on I will continue the analysis with this model.\n",
    "There also seems to be no difference beetween standard scaler and Min Max Scaler. since the second is a bit faster I will stick with it."
   ]
  },
  {
   "cell_type": "code",
   "execution_count": 301,
   "metadata": {},
   "outputs": [],
   "source": [
    "scaler = MinMaxScaler()\n",
    "scaler.fit(mailout_train_clean.astype('float'))\n",
    "\n",
    "mailout_train_scaled = scaler.transform(mailout_train_clean)\n",
    "mailout_test_scaled = scaler.transform(mailout_test_clean)\n",
    "\n",
    "# map back to dfs\n",
    "mailout_train_scaled = pd.DataFrame(data=mailout_train_scaled, columns=mailout_train_clean.columns)\n",
    "mailout_test_scaled = pd.DataFrame(data=mailout_test_scaled, columns=mailout_test_clean.columns)"
   ]
  },
  {
   "cell_type": "code",
   "execution_count": 302,
   "metadata": {},
   "outputs": [
    {
     "name": "stdout",
     "output_type": "stream",
     "text": [
      "Feature balance between dfs?:  False\n",
      "Your first argument df differs from the second on the following columns: \n",
      "{'RESPONSE'}\n",
      "Your second argument df differs from the first on the following columns: \n",
      "set()\n"
     ]
    }
   ],
   "source": [
    "balance_checker(mailout_train, mailout_test)"
   ]
  },
  {
   "cell_type": "markdown",
   "metadata": {},
   "source": [
    "### I experimented with multiple models to determine which one was the best performing.\n",
    "### The best performer was xgboost so I decided to use the Bayesian Optimization algorithm to fine tune the hyperparameters that produce the best results."
   ]
  },
  {
   "cell_type": "code",
   "execution_count": 303,
   "metadata": {},
   "outputs": [],
   "source": [
    "#submission 1 parameters\n",
    "bayes_xgb = xgb.XGBClassifier(base_score=0.5, \n",
    "                              booster='gbtree', \n",
    "                              colsample_bylevel=1,\n",
    "                              colsample_bytree=0.6872852588903648, \n",
    "                              eval_metric='auc', \n",
    "                              gamma=1.0,\n",
    "                              learning_rate=0.014017007043823785, \n",
    "                              max_delta_step=0, \n",
    "                              max_depth=7,\n",
    "                              min_child_weight=1, \n",
    "                              missing=None, \n",
    "                              n_estimators=236, \n",
    "                              n_jobs=-1,\n",
    "                              nthread=None, \n",
    "                              objective='binary:logistic', \n",
    "                              random_state=0,\n",
    "                              reg_alpha=1e-09, \n",
    "                              reg_lambda=1, \n",
    "                              scale_pos_weight=1, \n",
    "                              seed=None,\n",
    "                              silent=1, \n",
    "                              subsample=0.5)\n",
    "\n"
   ]
  },
  {
   "cell_type": "markdown",
   "metadata": {},
   "source": [
    "#submission 2 parameters\n",
    "bayes_xgb = xgb.XGBClassifier(base_score=0.5, \n",
    "                              booster='gbtree', \n",
    "                              colsample_bylevel=1,\n",
    "                              colsample_bytree=1, \n",
    "                              eval_metric='auc', \n",
    "                              gamma=0,\n",
    "                              learning_rate=0.04788137748021131, \n",
    "                              max_delta_step=0, \n",
    "                              max_depth=1,\n",
    "                              min_child_weight=10, \n",
    "                              missing=None, \n",
    "                              n_estimators=429, \n",
    "                              n_jobs=-1,\n",
    "                              nthread=None, \n",
    "                              objective='binary:logistic', \n",
    "                              random_state=0,\n",
    "                              reg_alpha=0.17651703245342792, \n",
    "                              reg_lambda=1, \n",
    "                              scale_pos_weight=1, \n",
    "                              seed=None,\n",
    "                              silent=1, \n",
    "                              subsample=0.5)"
   ]
  },
  {
   "cell_type": "markdown",
   "metadata": {},
   "source": [
    "#submission 3 parameters\n",
    "bayes_xgb = xgb.XGBClassifier(base_score=0.5, \n",
    "                              booster='gbtree', \n",
    "                              colsample_bylevel=1,\n",
    "                              colsample_bytree=0.9889952021544406, \n",
    "                              eval_metric='auc', \n",
    "                              gamma=0.7810813412544743,\n",
    "                              learning_rate=0.044734814719961276, \n",
    "                              max_delta_step=0, \n",
    "                              max_depth=1,\n",
    "                              min_child_weight=10, \n",
    "                              missing=None, \n",
    "                              n_estimators=454, \n",
    "                              n_jobs=-1,\n",
    "                              nthread=None, \n",
    "                              objective='binary:logistic', \n",
    "                              random_state=0,\n",
    "                              reg_alpha=1.0, \n",
    "                              reg_lambda=1, \n",
    "                              scale_pos_weight=1, \n",
    "                              seed=None,\n",
    "                              silent=1, \n",
    "                              subsample=0.5)"
   ]
  },
  {
   "cell_type": "markdown",
   "metadata": {},
   "source": [
    "#submission 4 parameters\n",
    "bayes_xgb = xgb.XGBClassifier(base_score=0.5, \n",
    "                              booster='gbtree', \n",
    "                              colsample_bylevel=1,\n",
    "                              colsample_bytree=0.8, \n",
    "                              eval_metric='auc', \n",
    "                              gamma=0,\n",
    "                              learning_rate=0.1, \n",
    "                              max_delta_step=0, \n",
    "                              max_depth=5,\n",
    "                              min_child_weight=1, \n",
    "                              missing=None, \n",
    "                              n_estimators=454, \n",
    "                              n_jobs=2,\n",
    "                              nthread=None, \n",
    "                              objective='binary:logistic', \n",
    "                              random_state=0,\n",
    "                              reg_alpha=1.0, \n",
    "                              reg_lambda=1, \n",
    "                              scale_pos_weight=1, \n",
    "                              seed=None,\n",
    "                              silent=1, \n",
    "                              subsample=0.8)"
   ]
  },
  {
   "cell_type": "markdown",
   "metadata": {},
   "source": [
    "#submission 5 parameters\n",
    "bayes_xgb = xgb.XGBClassifier(base_score=0.5, \n",
    "                              booster='gbtree', \n",
    "                              colsample_bylevel=1,\n",
    "                              colsample_bytree=0.6872852588903648, \n",
    "                              eval_metric='auc', \n",
    "                              gamma=1,\n",
    "                              learning_rate=0.01, \n",
    "                              max_delta_step=0, \n",
    "                              max_depth=3,\n",
    "                              min_child_weight=4, \n",
    "                              missing=None, \n",
    "                              n_estimators=454, \n",
    "                              n_jobs=2,\n",
    "                              nthread=None, \n",
    "                              objective='binary:logistic', \n",
    "                              random_state=0,\n",
    "                              reg_alpha=1e-09, \n",
    "                              reg_lambda=1, \n",
    "                              scale_pos_weight=1, \n",
    "                              seed=None,\n",
    "                              silent=1, \n",
    "                              subsample=0.8)\n",
    "                              \n",
    "{'colsample_bylevel': 0.6207294509491699, 'colsample_bytree': 0.9623594386716922, 'gamma': 1.0, 'learning_rate': 0.001, 'max_delta_step': 1, 'max_depth': 6, 'min_child_weight': 1, 'n_estimators': 500, 'reg_alpha': 1e-09, 'reg_lambda': 0.0002004101751465717, 'scale_pos_weight': 56, 'subsample': 0.6092942995200367}"
   ]
  },
  {
   "cell_type": "markdown",
   "metadata": {},
   "source": [
    "#submission 6 parameters\n",
    "bayes_xgb = xgb.XGBClassifier(base_score=0.5, \n",
    "                              booster='gbtree', \n",
    "                              colsample_bylevel=0.6207294509491699,\n",
    "                              colsample_bytree=0.9623594386716922, \n",
    "                              eval_metric='auc', \n",
    "                              gamma=1,\n",
    "                              learning_rate=0.001, \n",
    "                              max_delta_step=1, \n",
    "                              max_depth=6,\n",
    "                              min_child_weight=1, \n",
    "                              missing=None, \n",
    "                              n_estimators=500, \n",
    "                              n_jobs=2,\n",
    "                              nthread=None, \n",
    "                              objective='binary:logistic', \n",
    "                              random_state=0,\n",
    "                              reg_alpha=1e-09, \n",
    "                              reg_lambda=0.0002004101751465717, \n",
    "                              scale_pos_weight=56, \n",
    "                              seed=None,\n",
    "                              silent=1, \n",
    "                              subsample=0.6092942995200367)"
   ]
  },
  {
   "cell_type": "markdown",
   "metadata": {},
   "source": [
    "bayes_xgb = xgb.XGBClassifier(base_score=0.5, booster='gbtree', colsample_bylevel=1,\n",
    "              colsample_bynode=1, colsample_bytree=0.5578105865941786,\n",
    "              eval_metric='auc', gamma=0.07148993933953135,\n",
    "              learning_rate=0.002858444321957567, max_delta_step=0, max_depth=4,\n",
    "              min_child_weight=1, missing=None, n_estimators=500, n_jobs=-1,\n",
    "              nthread=None, objective='binary:logistic', random_state=0,\n",
    "              reg_alpha=0.004635659074237927, reg_lambda=1, scale_pos_weight=41,\n",
    "              seed=None, silent=1, subsample=0.522846932344412, verbosity=1)"
   ]
  },
  {
   "cell_type": "code",
   "execution_count": 304,
   "metadata": {},
   "outputs": [
    {
     "data": {
      "text/plain": [
       "XGBClassifier(base_score=0.5, booster='gbtree', colsample_bylevel=1,\n",
       "       colsample_bynode=1, colsample_bytree=0.6872852588903648,\n",
       "       eval_metric='auc', gamma=1.0, learning_rate=0.014017007043823785,\n",
       "       max_delta_step=0, max_depth=7, min_child_weight=1, missing=None,\n",
       "       n_estimators=236, n_jobs=-1, nthread=None,\n",
       "       objective='binary:logistic', random_state=0, reg_alpha=1e-09,\n",
       "       reg_lambda=1, scale_pos_weight=1, seed=None, silent=1,\n",
       "       subsample=0.5, verbosity=1)"
      ]
     },
     "execution_count": 304,
     "metadata": {},
     "output_type": "execute_result"
    }
   ],
   "source": [
    "bayes_xgb.fit(mailout_train_scaled, target)"
   ]
  },
  {
   "cell_type": "code",
   "execution_count": 305,
   "metadata": {},
   "outputs": [
    {
     "data": {
      "image/png": "[encoded data removed]",
      "text/plain": [
       "<Figure size 720x432 with 1 Axes>"
      ]
     },
     "metadata": {},
     "output_type": "display_data"
    }
   ],
   "source": [
    "plot_feature_importances(model=bayes_xgb, model_type=\"XGBClassifier\", features=mailout_train_scaled.columns)"
   ]
  },
  {
   "cell_type": "markdown",
   "metadata": {},
   "source": [
    "#submission 1 lgbm\n",
    "bayes_lgbm = lgb.LGBMClassifier(application='binary', \n",
    "                                boosting_type='gbdt', \n",
    "                                class_weight=None,\n",
    "                                colsample_bytree=1.0, \n",
    "                                importance_type='split',\n",
    "                                learning_rate=0.09531171453332088, \n",
    "                                max_bin=100, \n",
    "                                max_depth=2,\n",
    "                                metric='auc', \n",
    "                                min_child_samples=14, \n",
    "                                min_child_weight=0.001,\n",
    "                                min_data_in_leaf=265, \n",
    "                                min_split_gain=0.0, \n",
    "                                n_estimators=24,\n",
    "                                n_jobs=-1, \n",
    "                                num_leaves=450, \n",
    "                                objective=None, \n",
    "                                random_state=None,\n",
    "                                reg_alpha=1e-09, \n",
    "                                reg_lambda=1.0,\n",
    "                                scale_pos_weight=69.87642288579819, \n",
    "                                silent=True, \n",
    "                                subsample=1.0,\n",
    "                                subsample_for_bin=200000, \n",
    "                                subsample_freq=0, \n",
    "                                verbose=0)"
   ]
  },
  {
   "cell_type": "code",
   "execution_count": 306,
   "metadata": {},
   "outputs": [],
   "source": [
    "#submission 2 lgbm\n",
    "bayes_lgbm = lgb.LGBMClassifier(application='binary', \n",
    "                                boosting_type='gbdt', \n",
    "                                class_weight=None,\n",
    "                                colsample_bytree=1.0, \n",
    "                                importance_type='split',\n",
    "                                learning_rate=0.0882410095694084, \n",
    "                                max_bin=826, \n",
    "                                max_depth=2,\n",
    "                                metric='auc', \n",
    "                                min_child_samples=0, \n",
    "                                min_child_weight=0.001,\n",
    "                                min_data_in_leaf=32, \n",
    "                                min_split_gain=0.0, \n",
    "                                n_estimators=24,\n",
    "                                n_jobs=-1, \n",
    "                                num_leaves=94, \n",
    "                                objective=None, \n",
    "                                random_state=None,\n",
    "                                reg_alpha=1.0, \n",
    "                                reg_lambda=1e-09,\n",
    "                                scale_pos_weight=90.0, \n",
    "                                silent=True, \n",
    "                                subsample=1.0,\n",
    "                                subsample_for_bin=200000, \n",
    "                                subsample_freq=0, \n",
    "                                verbose=0)"
   ]
  },
  {
   "cell_type": "code",
   "execution_count": 307,
   "metadata": {},
   "outputs": [
    {
     "data": {
      "text/plain": [
       "LGBMClassifier(application='binary', boosting_type='gbdt', class_weight=None,\n",
       "        colsample_bytree=1.0, importance_type='split',\n",
       "        learning_rate=0.0882410095694084, max_bin=826, max_depth=2,\n",
       "        metric='auc', min_child_samples=0, min_child_weight=0.001,\n",
       "        min_data_in_leaf=32, min_split_gain=0.0, n_estimators=24,\n",
       "        n_jobs=-1, num_leaves=94, objective=None, random_state=None,\n",
       "        reg_alpha=1.0, reg_lambda=1e-09, scale_pos_weight=90.0,\n",
       "        silent=True, subsample=1.0, subsample_for_bin=200000,\n",
       "        subsample_freq=0, verbose=0)"
      ]
     },
     "execution_count": 307,
     "metadata": {},
     "output_type": "execute_result"
    }
   ],
   "source": [
    "bayes_lgbm.fit(mailout_train_scaled, target)"
   ]
  },
  {
   "cell_type": "code",
   "execution_count": 308,
   "metadata": {},
   "outputs": [
    {
     "data": {
      "image/png": "[encoded data removed]",
      "text/plain": [
       "<Figure size 720x432 with 1 Axes>"
      ]
     },
     "metadata": {},
     "output_type": "display_data"
    }
   ],
   "source": [
    "plot_feature_importances(model=bayes_lgbm, model_type=\"LGBMClassifier\", features=mailout_train_scaled.columns)"
   ]
  },
  {
   "cell_type": "code",
   "execution_count": 309,
   "metadata": {},
   "outputs": [],
   "source": [
    "#plot_comparison_feature(column = 'D19_SOZIALES', df=mailout_train)"
   ]
  },
  {
   "cell_type": "markdown",
   "metadata": {},
   "source": [
    "## Part 3: Kaggle Competition\n",
    "\n",
    "Now that you've created a model to predict which individuals are most likely to respond to a mailout campaign, it's time to test that model in competition through Kaggle. If you click on the link [here](http://www.kaggle.com/t/21e6d45d4c574c7fa2d868f0e8c83140), you'll be taken to the competition page where, if you have a Kaggle account, you can enter. If you're one of the top performers, you may have the chance to be contacted by a hiring manager from Arvato or Bertelsmann for an interview!\n",
    "\n",
    "Your entry to the competition should be a CSV file with two columns. The first column should be a copy of \"LNR\", which acts as an ID number for each individual in the \"TEST\" partition. The second column, \"RESPONSE\", should be some measure of how likely each individual became a customer – this might not be a straightforward probability. As you should have found in Part 2, there is a large output class imbalance, where most individuals did not respond to the mailout. Thus, predicting individual classes and using accuracy does not seem to be an appropriate performance evaluation method. Instead, the competition will be using AUC to evaluate performance. The exact values of the \"RESPONSE\" column do not matter as much: only that the higher values try to capture as many of the actual customers as possible, early in the ROC curve sweep."
   ]
  },
  {
   "cell_type": "code",
   "execution_count": null,
   "metadata": {},
   "outputs": [],
   "source": [
    "#fit and predict xgb\n",
    "bayes_xgb.fit(mailout_train_scaled, target)\n",
    "predictions = bayes_xgb.predict_proba(mailout_test_scaled)[:,1]"
   ]
  },
  {
   "cell_type": "code",
   "execution_count": 157,
   "metadata": {},
   "outputs": [],
   "source": [
    "#fit and predict lgbm\n",
    "#bayes_lgbm.fit(mailout_train_scaled, target)\n",
    "#predictions = bayes_lgbm.predict_proba(mailout_test_scaled)[:,1]"
   ]
  },
  {
   "cell_type": "code",
   "execution_count": null,
   "metadata": {},
   "outputs": [],
   "source": [
    "# create submission file\n",
    "lnr = pd.DataFrame(mailout_test['LNR'].astype('int32'))\n",
    "predictions = pd.DataFrame(predictions)\n",
    "predictions = predictions.rename(columns={0: \"RESPONSE\"})\n",
    "dfs = [lnr, predictions]\n",
    "submission = pd.concat(dfs, sort=False, axis=1)\n",
    "submission.set_index('LNR', inplace = True)\n",
    "submission.head()"
   ]
  },
  {
   "cell_type": "code",
   "execution_count": 311,
   "metadata": {},
   "outputs": [
    {
     "data": {
      "text/plain": [
       "(42833, 1)"
      ]
     },
     "execution_count": 311,
     "metadata": {},
     "output_type": "execute_result"
    }
   ],
   "source": [
    "submission.shape"
   ]
  },
  {
   "cell_type": "code",
   "execution_count": 312,
   "metadata": {},
   "outputs": [],
   "source": [
    "submission.to_csv('kaggle_ap_subm.csv')\n"
   ]
  },
  {
   "cell_type": "code",
   "execution_count": null,
   "metadata": {},
   "outputs": [],
   "source": []
  }
 ],
 "metadata": {
  "kernelspec": {
   "display_name": "Python 3",
   "language": "python",
   "name": "python3"
  },
  "language_info": {
   "codemirror_mode": {
    "name": "ipython",
    "version": 3
   },
   "file_extension": ".py",
   "mimetype": "text/x-python",
   "name": "python",
   "nbconvert_exporter": "python",
   "pygments_lexer": "ipython3",
   "version": "3.7.4"
  }
 },
 "nbformat": 4,
 "nbformat_minor": 2
}
